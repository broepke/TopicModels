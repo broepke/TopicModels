{
 "cells": [
  {
   "cell_type": "code",
   "execution_count": 1,
   "metadata": {},
   "outputs": [],
   "source": [
    "import warnings\n",
    "warnings.filterwarnings(\"ignore\")\n",
    "\n",
    "# import logging\n",
    "# logging.basicConfig(format='%(asctime)s : %(levelname)s : %(message)s', level=logging.DEBUG)"
   ]
  },
  {
   "cell_type": "code",
   "execution_count": 2,
   "metadata": {},
   "outputs": [
    {
     "name": "stderr",
     "output_type": "stream",
     "text": [
      "/Users/brianroepke/miniforge3/envs/NLP/lib/python3.9/site-packages/matplotlib_inline/config.py:66: DeprecationWarning: InlineBackend._figure_formats_changed is deprecated in traitlets 4.1: use @observe and @unobserve instead.\n",
      "  def _figure_formats_changed(self, name, old, new):\n"
     ]
    }
   ],
   "source": [
    "import numpy as np\n",
    "import pandas as pd\n",
    "from collections import defaultdict\n",
    "from pprint import pprint\n",
    "\n",
    "from gensim import corpora, models\n",
    "from gensim.models import Phrases\n",
    "from gensim.models import CoherenceModel\n",
    "from gensim.models.nmf import Nmf\n",
    "from gensim.models.lsimodel import LsiModel\n",
    "from gensim.models.ldamodel import LdaModel\n",
    "\n",
    "import pyLDAvis\n",
    "import pyLDAvis.gensim_models as gensimvis\n",
    "\n",
    "import matplotlib.pyplot as plt\n",
    "from matplotlib.lines import Line2D\n",
    "import seaborn as sns\n",
    "%matplotlib inline"
   ]
  },
  {
   "cell_type": "code",
   "execution_count": 3,
   "metadata": {},
   "outputs": [],
   "source": [
    "df = pd.read_pickle('tesla_clean.pkl')\n",
    "df.reset_index(inplace=True)"
   ]
  },
  {
   "cell_type": "code",
   "execution_count": 4,
   "metadata": {},
   "outputs": [],
   "source": [
    "documents = df['Discussion_Clean'].to_list()"
   ]
  },
  {
   "cell_type": "code",
   "execution_count": 5,
   "metadata": {},
   "outputs": [
    {
     "data": {
      "text/plain": [
       "'hear incentive tax credit long offer first car order true'"
      ]
     },
     "execution_count": 5,
     "metadata": {},
     "output_type": "execute_result"
    }
   ],
   "source": [
    "df['Discussion_Clean'][5]"
   ]
  },
  {
   "cell_type": "code",
   "execution_count": 6,
   "metadata": {},
   "outputs": [],
   "source": [
    "stoplist = ['the', 'a', 'an', 'of', 'and', 'or', 'in', 'for', 'to', 'at', 'by', 'from', 'with', 'on', 'as', 'but', 'is', 'are', 'was', 'were', 'be', 'been', 'am', 'i', 'me', 'my', 'we', 'our', 'you', 'your', 'yours', 'he', 'she', 'it', 'they', 'them', 'their', 'what', 'which', 'who', 'whom', 'this', 'that', 'these', 'those', 'can', 'will', 'would', 'should', 'could', 'may', 'might', 'must', 'ought', 'i', 'you', 'he', 'she', 'it', 'thank', 'lol', 'yes', 'nope', 'get', 'go', 'one', 'see', 'haha', 'nice', 'flag', 'spam', 'shit', 'here', 'look', 'use', 'good', 'say', 'think', 'know', 'nah', 'ah', 'time', 'fish', 'troll', 'nazi', 'ha', 'bye', 'ok', 'okay', 'fucking', 'andy', 'idiot', 'httpsteslatapcomarticlesownersmanualcompanionsearch', 'fishy', 'fishev', 'evil', 'tanya', 'lilbean', 'eaglespdx', 'lie', 'maxxer', 's', 'nt', 'not', 'do', 'like', 'well', 've', 'try']"
   ]
  },
  {
   "cell_type": "code",
   "execution_count": 7,
   "metadata": {},
   "outputs": [],
   "source": [
    "# remove common words and tokenize\n",
    "texts = [\n",
    "    [word for word in document.lower().split() if word not in stoplist]\n",
    "    for document in documents\n",
    "]"
   ]
  },
  {
   "cell_type": "code",
   "execution_count": 8,
   "metadata": {},
   "outputs": [],
   "source": [
    "# remove words that appear only once\n",
    "frequency = defaultdict(int)\n",
    "for text in texts:\n",
    "    for token in text:\n",
    "        frequency[token] += 1"
   ]
  },
  {
   "cell_type": "code",
   "execution_count": 9,
   "metadata": {},
   "outputs": [],
   "source": [
    "texts = [\n",
    "    [token for token in text if frequency[token] > 1]\n",
    "    for text in texts\n",
    "]"
   ]
  },
  {
   "cell_type": "code",
   "execution_count": 10,
   "metadata": {},
   "outputs": [],
   "source": [
    "# # Add bigrams and trigrams to docs (only ones that appear 20 times or more).\n",
    "# bigram = Phrases(texts, min_count=20)\n",
    "# for idx in range(len(texts)):\n",
    "#     for token in bigram[texts[idx]]:\n",
    "#         if '_' in token:\n",
    "#             # Token is a bigram, add to document.\n",
    "#             texts[idx].append(token)"
   ]
  },
  {
   "cell_type": "code",
   "execution_count": 11,
   "metadata": {},
   "outputs": [],
   "source": [
    "# Create the dictionary\n",
    "dictionary = corpora.Dictionary(texts)"
   ]
  },
  {
   "cell_type": "code",
   "execution_count": 12,
   "metadata": {},
   "outputs": [],
   "source": [
    "# Filter out words that occur less than X documents, or more than X% of the documents.\n",
    "dictionary.filter_extremes(no_below=50, no_above=0.5)"
   ]
  },
  {
   "cell_type": "code",
   "execution_count": 13,
   "metadata": {},
   "outputs": [],
   "source": [
    "# Create the corpus.  This is a Term Frequency or Bag of Words representation.\n",
    "corpus = [dictionary.doc2bow(text) for text in texts]"
   ]
  },
  {
   "cell_type": "code",
   "execution_count": 14,
   "metadata": {},
   "outputs": [
    {
     "name": "stdout",
     "output_type": "stream",
     "text": [
      "Number of unique tokens: 2461\n",
      "Number of documents: 54335\n"
     ]
    }
   ],
   "source": [
    "print('Number of unique tokens: %d' % len(dictionary))\n",
    "print('Number of documents: %d' % len(corpus))"
   ]
  },
  {
   "cell_type": "code",
   "execution_count": 15,
   "metadata": {},
   "outputs": [],
   "source": [
    "# You can also use TF-IDF instead of BOW\n",
    "tfidf = models.TfidfModel(corpus)\n",
    "corpus_tfidf = tfidf[corpus]"
   ]
  },
  {
   "cell_type": "markdown",
   "metadata": {},
   "source": [
    "## Compare Different Topic Modeling Algorithms"
   ]
  },
  {
   "cell_type": "code",
   "execution_count": 16,
   "metadata": {},
   "outputs": [],
   "source": [
    "# Create an arbitrary number of topics to start\n",
    "NUM_TOPICS = 10"
   ]
  },
  {
   "cell_type": "code",
   "execution_count": 17,
   "metadata": {},
   "outputs": [],
   "source": [
    "def model_scoring (model, corpus, text, dictionary, perplex=False):\n",
    "\n",
    "    # Compute Perplexity\n",
    "    # a measure of how good the model is. lower the better.\n",
    "    if perplex:\n",
    "        print('Perplexity: ', model.log_perplexity(corpus))  \n",
    "\n",
    "    # Compute Coherence Score\n",
    "    coherence_model = CoherenceModel(model=model, \n",
    "                                         texts=text, \n",
    "                                         dictionary=dictionary, \n",
    "                                         coherence='c_v')\n",
    "    \n",
    "    coherence_lda = coherence_model.get_coherence()\n",
    "    print('Coherence Score: ', coherence_lda)"
   ]
  },
  {
   "cell_type": "code",
   "execution_count": 18,
   "metadata": {},
   "outputs": [
    {
     "name": "stdout",
     "output_type": "stream",
     "text": [
      "Perplexity:  -7.0215461671994674\n",
      "Coherence Score:  0.5463850924315429\n"
     ]
    }
   ],
   "source": [
    "lda_model = LdaModel(corpus=corpus, id2word=dictionary, num_topics=NUM_TOPICS, random_state=42)\n",
    "\n",
    "model_scoring(lda_model, corpus, texts, dictionary, perplex=True)"
   ]
  },
  {
   "cell_type": "markdown",
   "metadata": {},
   "source": [
    "## Compute the Best Number of Topics"
   ]
  },
  {
   "cell_type": "code",
   "execution_count": 19,
   "metadata": {},
   "outputs": [],
   "source": [
    "NUM_TOPICS = 16\n",
    "# Set training parameters.\n",
    "chunksize = 2000\n",
    "passes = 6\n",
    "iterations = 100\n",
    "eval_every = None  # Don't evaluate model perplexity, takes too much time.\n",
    "temp = dictionary[0]  # This is only to \"load\" the dictionary.\n",
    "id2word = dictionary.id2token"
   ]
  },
  {
   "cell_type": "code",
   "execution_count": 20,
   "metadata": {},
   "outputs": [],
   "source": [
    "def compute_coherence_values(dictionary, corpus, texts, cohere, limit, start=2, step=3):\n",
    "    \"\"\"\n",
    "    Compute c_v coherence for various number of topics\n",
    "\n",
    "    Parameters:\n",
    "    ----------\n",
    "    dictionary : Gensim dictionary\n",
    "    corpus : Gensim corpus\n",
    "    texts : List of input texts\n",
    "    limit : Max num of topics\n",
    "\n",
    "    Returns:\n",
    "    -------\n",
    "    model_list : List of LDA topic models\n",
    "    coherence_values : Coherence values corresponding to the LDA model with respective number of topics\n",
    "    \"\"\"\n",
    "    coherence_values = []\n",
    "    model_list = []\n",
    "    for num_topics in range(start, limit, step):\n",
    "        model = LdaModel(corpus=corpus, \n",
    "                         id2word=dictionary, \n",
    "                         num_topics=num_topics,\n",
    "                         chunksize=chunksize,\n",
    "                         alpha='auto',\n",
    "                         eta='auto',\n",
    "                         iterations=iterations,\n",
    "                         passes=passes,\n",
    "                         eval_every=eval_every,\n",
    "                         random_state=42)\n",
    "        model_list.append(model)\n",
    "        coherencemodel = CoherenceModel(model=model, texts=texts, dictionary=dictionary, coherence=cohere)\n",
    "        coherence_values.append(coherencemodel.get_coherence())\n",
    "\n",
    "    return model_list, coherence_values"
   ]
  },
  {
   "cell_type": "code",
   "execution_count": 21,
   "metadata": {},
   "outputs": [],
   "source": [
    "limit=30\n",
    "start=2\n",
    "step=2"
   ]
  },
  {
   "cell_type": "code",
   "execution_count": 22,
   "metadata": {},
   "outputs": [],
   "source": [
    "model_list, coherence_values = compute_coherence_values(dictionary=dictionary, \n",
    "                                                        corpus=corpus, \n",
    "                                                        texts=texts, \n",
    "                                                        cohere='c_v', # 'u_mass', 'c_v', 'c_uci', 'c_npmi'\n",
    "                                                        start=start, \n",
    "                                                        limit=limit, \n",
    "                                                        step=step)"
   ]
  },
  {
   "cell_type": "code",
   "execution_count": 23,
   "metadata": {},
   "outputs": [
    {
     "data": {
      "image/png": "[encoded data removed]",
      "text/plain": [
       "<Figure size 576x360 with 1 Axes>"
      ]
     },
     "metadata": {
      "needs_background": "light"
     },
     "output_type": "display_data"
    }
   ],
   "source": [
    "# Show graph\n",
    "plt.figure(figsize=(8,5))\n",
    "\n",
    "x = range(start, limit, step)\n",
    "ax = sns.lineplot(x=x, y=coherence_values, color='#238C8C')\n",
    "\n",
    "# Set titles and labels\n",
    "plt.title(\"Best Number of Topics for LDA Model\")\n",
    "plt.xlabel(\"Num Topics\")\n",
    "plt.ylabel(\"Coherence score\")\n",
    "plt.xlim(start, limit)\n",
    "plt.xticks(range(2, limit, step))\n",
    "\n",
    "# Add a vertical line to show the optimum number of topics\n",
    "plt.axvline(x[np.argmax(coherence_values)], color='#F26457', linestyle='--')\n",
    "\n",
    "# Draw a custom legend\n",
    "legend_elements = [Line2D([0], [0], color='#238C8C', ls='-', label='Coherence Value (c_v)'),\n",
    "                   Line2D([0], [1], color='#F26457', ls='--', label='Optimal Number of Topics')]\n",
    "\n",
    "ax.legend(handles=legend_elements, loc='upper right')\n",
    "\n",
    "plt.tight_layout()\n",
    "plt.savefig('topic_coherence.png', dpi=300)"
   ]
  },
  {
   "cell_type": "markdown",
   "metadata": {},
   "source": [
    "## Train the Final Model and Visualize"
   ]
  },
  {
   "cell_type": "code",
   "execution_count": 24,
   "metadata": {},
   "outputs": [],
   "source": [
    "NUM_TOPICS = 12\n",
    "# Set training parameters.\n",
    "chunksize = 2000\n",
    "passes = 6\n",
    "iterations = 100\n",
    "eval_every = None\n",
    "temp = dictionary[0]\n",
    "id2word = dictionary.id2token"
   ]
  },
  {
   "cell_type": "code",
   "execution_count": 25,
   "metadata": {},
   "outputs": [],
   "source": [
    "model = LdaModel(\n",
    "    corpus=corpus,\n",
    "    id2word=id2word,\n",
    "    chunksize=chunksize,\n",
    "    alpha='auto',\n",
    "    eta='auto',\n",
    "    iterations=iterations,\n",
    "    num_topics=NUM_TOPICS,\n",
    "    passes=passes,\n",
    "    eval_every=eval_every\n",
    ")"
   ]
  },
  {
   "cell_type": "code",
   "execution_count": 26,
   "metadata": {},
   "outputs": [
    {
     "name": "stdout",
     "output_type": "stream",
     "text": [
      "Average topic coherence: -3.1195.\n",
      "[([(0.039448995, 'car'),\n",
      "   (0.036841486, 'tesla'),\n",
      "   (0.023315277, 'model'),\n",
      "   (0.017097224, 'make'),\n",
      "   (0.01238486, 'year'),\n",
      "   (0.011089275, 'new'),\n",
      "   (0.009037831, 'buy'),\n",
      "   (0.008652098, 'people'),\n",
      "   (0.008580961, 'need'),\n",
      "   (0.008146643, 'want'),\n",
      "   (0.007538626, 'really'),\n",
      "   (0.007480597, 'even'),\n",
      "   (0.007172206, 'also'),\n",
      "   (0.0071152863, 'come'),\n",
      "   (0.0069772345, 'thing'),\n",
      "   (0.0067581716, 'first'),\n",
      "   (0.006439691, 'post'),\n",
      "   (0.0064219446, 'much'),\n",
      "   (0.006268771, 'sure'),\n",
      "   (0.006264018, 'take')],\n",
      "  -2.224762925412964),\n",
      " ([(0.027026888, 'lane'),\n",
      "   (0.023645729, 'speed'),\n",
      "   (0.022001814, 'drive'),\n",
      "   (0.020780915, 'brake'),\n",
      "   (0.01867445, 'car'),\n",
      "   (0.018612951, 'stop'),\n",
      "   (0.018410662, 'light'),\n",
      "   (0.018208345, 'autopilot'),\n",
      "   (0.017618973, 'road'),\n",
      "   (0.01547923, 'turn'),\n",
      "   (0.014834003, 'ap'),\n",
      "   (0.012825663, 'control'),\n",
      "   (0.010914118, 'driver'),\n",
      "   (0.010691264, 'traffic'),\n",
      "   (0.0100221345, 'slow'),\n",
      "   (0.00930771, 'change'),\n",
      "   (0.00925161, 'highway'),\n",
      "   (0.009084496, 'limit'),\n",
      "   (0.0075910343, 'steering'),\n",
      "   (0.0072758673, 'wheel')],\n",
      "  -2.4713769762581133),\n",
      " ([(0.073370375, 'battery'),\n",
      "   (0.06794709, 'mile'),\n",
      "   (0.060423248, 'range'),\n",
      "   (0.026697863, 'charge'),\n",
      "   (0.020269457, 'rate'),\n",
      "   (0.016860608, 'drive'),\n",
      "   (0.014620841, 'power'),\n",
      "   (0.013354391, 'per'),\n",
      "   (0.01305983, 'trip'),\n",
      "   (0.012265235, 'energy'),\n",
      "   (0.009820691, 'low'),\n",
      "   (0.0092834905, 'pack'),\n",
      "   (0.008914156, 'ice'),\n",
      "   (0.008752453, 'number'),\n",
      "   (0.0086912, 'estimate'),\n",
      "   (0.007862653, 'less'),\n",
      "   (0.0075946, 'average'),\n",
      "   (0.0073557366, 'car'),\n",
      "   (0.006932249, 'degradation'),\n",
      "   (0.006896696, 'gas')],\n",
      "  -2.6536727883896924),\n",
      " ([(0.09690213, 'charge'),\n",
      "   (0.03089704, 'charger'),\n",
      "   (0.027733522, 'home'),\n",
      "   (0.024076805, 'plug'),\n",
      "   (0.018312728, 'trip'),\n",
      "   (0.016506933, 'supercharger'),\n",
      "   (0.0154846655, 'sc'),\n",
      "   (0.015181944, 'work'),\n",
      "   (0.0147783, 'wall'),\n",
      "   (0.014556697, 'hour'),\n",
      "   (0.014351725, 'parking'),\n",
      "   (0.013674407, 'house'),\n",
      "   (0.011547765, 'day'),\n",
      "   (0.011502467, 'outlet'),\n",
      "   (0.01109412, 'station'),\n",
      "   (0.010918307, 'adapter'),\n",
      "   (0.010612535, 'need'),\n",
      "   (0.010249552, 'leave'),\n",
      "   (0.0098804645, 'stop'),\n",
      "   (0.009776935, 'night')],\n",
      "  -2.6724000794943796),\n",
      " ([(0.08170149, 'service'),\n",
      "   (0.06565218, '\"'),\n",
      "   (0.041923605, 'week'),\n",
      "   (0.03704507, 'call'),\n",
      "   (0.03528944, 'day'),\n",
      "   (0.03385396, 'center'),\n",
      "   (0.02034347, 'issue'),\n",
      "   (0.018781217, 'delivery'),\n",
      "   (0.016643738, 'take'),\n",
      "   (0.013357809, 'fix'),\n",
      "   (0.013257965, 'appointment'),\n",
      "   (0.012767347, 'schedule'),\n",
      "   (0.012755072, 'tell'),\n",
      "   (0.011941078, 'mine'),\n",
      "   (0.011802573, 'back'),\n",
      "   (0.010698271, 'check'),\n",
      "   (0.010079028, 'wait'),\n",
      "   (0.009426688, 'yeah'),\n",
      "   (0.009402157, 'tech'),\n",
      "   (0.009230878, 'ago')],\n",
      "  -2.815291089061477),\n",
      " ([(0.04854716, 'work'),\n",
      "   (0.033714905, 'phone'),\n",
      "   (0.033121284, 'update'),\n",
      "   (0.02952828, 'app'),\n",
      "   (0.028201226, 'car'),\n",
      "   (0.021425458, 'issue'),\n",
      "   (0.017269146, 'problem'),\n",
      "   (0.016016645, 'software'),\n",
      "   (0.011431266, 'fix'),\n",
      "   (0.011426266, 'reboot'),\n",
      "   (0.010799195, 'connect'),\n",
      "   (0.009921505, 'wifi'),\n",
      "   (0.00926959, 'message'),\n",
      "   (0.008651675, 'fine'),\n",
      "   (0.008415883, 'key'),\n",
      "   (0.00777459, 'screen'),\n",
      "   (0.007633847, 'reset'),\n",
      "   (0.0072339796, 'show'),\n",
      "   (0.0071091605, 'spotify'),\n",
      "   (0.0069251377, 'bug')],\n",
      "  -3.000381706902889),\n",
      " ([(0.04535129, 'car'),\n",
      "   (0.02917776, 'open'),\n",
      "   (0.025384925, 'door'),\n",
      "   (0.016726071, 'back'),\n",
      "   (0.016353505, 'close'),\n",
      "   (0.01627702, 'leave'),\n",
      "   (0.015714893, 'power'),\n",
      "   (0.015649186, 'park'),\n",
      "   (0.015139921, 'garage'),\n",
      "   (0.012001171, 'window'),\n",
      "   (0.011721503, 'button'),\n",
      "   (0.011283915, 'cable'),\n",
      "   (0.010759167, 'lock'),\n",
      "   (0.01071628, 'drive'),\n",
      "   (0.010288662, 'notice'),\n",
      "   (0.009658076, 'port'),\n",
      "   (0.009165632, 'record'),\n",
      "   (0.008917045, 'away'),\n",
      "   (0.008907994, 'format'),\n",
      "   (0.008883191, 'day')],\n",
      "  -3.0798817970111725),\n",
      " ([(0.030506337, 'front'),\n",
      "   (0.028714731, 'rear'),\n",
      "   (0.02269157, 'side'),\n",
      "   (0.019529706, 'paint'),\n",
      "   (0.019321313, 'shop'),\n",
      "   (0.014247941, 'replace'),\n",
      "   (0.013543004, 'install'),\n",
      "   (0.012825467, 'plate'),\n",
      "   (0.012638561, 'aftermarket'),\n",
      "   (0.012281739, 'area'),\n",
      "   (0.011818925, 'scratch'),\n",
      "   (0.011477582, 'damage'),\n",
      "   (0.011213933, 'body'),\n",
      "   (0.011032222, 'cover'),\n",
      "   (0.010461434, 'sensor'),\n",
      "   (0.0102251, 'part'),\n",
      "   (0.010123723, 'repair'),\n",
      "   (0.010042548, 'instal'),\n",
      "   (0.009603258, 'touch'),\n",
      "   (0.009123223, 'piece')],\n",
      "  -3.2094777368976737),\n",
      " ([(0.02815937, 'tax'),\n",
      "   (0.02387349, 'credit'),\n",
      "   (0.016692748, 'vehicle'),\n",
      "   (0.015290237, 'account'),\n",
      "   (0.014947177, 'form'),\n",
      "   (0.014149649, 'rebate'),\n",
      "   (0.013786468, 'tesla'),\n",
      "   (0.012325861, 'order'),\n",
      "   (0.011755834, 'number'),\n",
      "   (0.011161012, 'email'),\n",
      "   (0.010966718, 'sale'),\n",
      "   (0.010537501, 'pay'),\n",
      "   (0.010108586, 'delivery'),\n",
      "   (0.01010746, 'state'),\n",
      "   (0.009729159, 'total'),\n",
      "   (0.009411254, 'company'),\n",
      "   (0.009332073, 'purchase'),\n",
      "   (0.009019418, 'md'),\n",
      "   (0.008667563, 'premium'),\n",
      "   (0.0080241915, 'demand')],\n",
      "  -3.5394429703823866),\n",
      " ([(0.0395806, 'seat'),\n",
      "   (0.036459304, 'heat'),\n",
      "   (0.026941149, 'cool'),\n",
      "   (0.024721542, 'air'),\n",
      "   (0.023982719, 'black'),\n",
      "   (0.021802323, 'cell'),\n",
      "   (0.021567797, 'tint'),\n",
      "   (0.020876478, 'windshield'),\n",
      "   (0.01973721, 'glass'),\n",
      "   (0.019733371, 'interior'),\n",
      "   (0.01920067, 'window'),\n",
      "   (0.019049592, 'cabin'),\n",
      "   (0.018772135, 'ac'),\n",
      "   (0.017869111, 'clean'),\n",
      "   (0.015962953, 'turn'),\n",
      "   (0.01594237, 'temp'),\n",
      "   (0.015934562, 'roof'),\n",
      "   (0.015803967, 'filter'),\n",
      "   (0.014019706, 'cold'),\n",
      "   (0.012772686, 'fan')],\n",
      "  -3.559289917354106),\n",
      " ([(0.040755376, 'mode'),\n",
      "   (0.038531087, 'drive'),\n",
      "   (0.034469347, 'video'),\n",
      "   (0.028003892, 'usb'),\n",
      "   (0.024541711, 'ford'),\n",
      "   (0.02299471, 'screen'),\n",
      "   (0.022609193, 'sentry'),\n",
      "   (0.02056998, 'save'),\n",
      "   (0.020443995, 'song'),\n",
      "   (0.016878555, 'camera'),\n",
      "   (0.016354552, 'play'),\n",
      "   (0.014852059, 'flash'),\n",
      "   (0.014018617, 'dashcam'),\n",
      "   (0.013954059, 'manual'),\n",
      "   (0.013448026, 'view'),\n",
      "   (0.011429131, 'command'),\n",
      "   (0.011371591, 'file'),\n",
      "   (0.011160817, 'icon'),\n",
      "   (0.011019995, 'watch'),\n",
      "   (0.0105964355, 'music')],\n",
      "  -3.6772559403893696),\n",
      " ([(0.0833853, 'tire'),\n",
      "   (0.06792207, 'wheel'),\n",
      "   (0.03632059, 'lr'),\n",
      "   (0.030969588, 'rwd'),\n",
      "   (0.028600983, 'awd'),\n",
      "   (0.02508517, 'snow'),\n",
      "   (0.020935362, 'winter'),\n",
      "   (0.01920691, 'rim'),\n",
      "   (0.01726424, 'motor'),\n",
      "   (0.015698884, 'performance'),\n",
      "   (0.01179662, 'drive'),\n",
      "   (0.011684742, 'wear'),\n",
      "   (0.0111077055, 'low'),\n",
      "   (0.009844093, 'road'),\n",
      "   (0.008473974, 'mache'),\n",
      "   (0.008342111, 'rotate'),\n",
      "   (0.008203889, 'mustang'),\n",
      "   (0.008027625, 'acceleration'),\n",
      "   (0.007972577, 'weight'),\n",
      "   (0.007964362, 'aero')],\n",
      "  -4.530805645254214)]\n"
     ]
    }
   ],
   "source": [
    "top_topics = model.top_topics(corpus) #, num_words=20)\n",
    "\n",
    "# Average topic coherence is the sum of topic coherences of all topics, divided by the number of topics.\n",
    "avg_topic_coherence = sum([t[1] for t in top_topics]) / NUM_TOPICS\n",
    "print('Average topic coherence: %.4f.' % avg_topic_coherence)\n",
    "\n",
    "pprint(top_topics)"
   ]
  },
  {
   "cell_type": "code",
   "execution_count": 27,
   "metadata": {},
   "outputs": [
    {
     "name": "stderr",
     "output_type": "stream",
     "text": [
      "/Users/brianroepke/miniforge3/envs/NLP/lib/python3.9/site-packages/past/builtins/misc.py:45: DeprecationWarning: the imp module is deprecated in favour of importlib; see the module's documentation for alternative uses\n",
      "  from imp import reload\n",
      "/Users/brianroepke/miniforge3/envs/NLP/lib/python3.9/site-packages/past/builtins/misc.py:45: DeprecationWarning: the imp module is deprecated in favour of importlib; see the module's documentation for alternative uses\n",
      "  from imp import reload\n",
      "/Users/brianroepke/miniforge3/envs/NLP/lib/python3.9/site-packages/past/builtins/misc.py:45: DeprecationWarning: the imp module is deprecated in favour of importlib; see the module's documentation for alternative uses\n",
      "  from imp import reload\n",
      "/Users/brianroepke/miniforge3/envs/NLP/lib/python3.9/site-packages/past/builtins/misc.py:45: DeprecationWarning: the imp module is deprecated in favour of importlib; see the module's documentation for alternative uses\n",
      "  from imp import reload\n",
      "/Users/brianroepke/miniforge3/envs/NLP/lib/python3.9/site-packages/past/builtins/misc.py:45: DeprecationWarning: the imp module is deprecated in favour of importlib; see the module's documentation for alternative uses\n",
      "  from imp import reload\n",
      "/Users/brianroepke/miniforge3/envs/NLP/lib/python3.9/site-packages/past/builtins/misc.py:45: DeprecationWarning: the imp module is deprecated in favour of importlib; see the module's documentation for alternative uses\n",
      "  from imp import reload\n",
      "/Users/brianroepke/miniforge3/envs/NLP/lib/python3.9/site-packages/past/builtins/misc.py:45: DeprecationWarning: the imp module is deprecated in favour of importlib; see the module's documentation for alternative uses\n",
      "  from imp import reload\n",
      "/Users/brianroepke/miniforge3/envs/NLP/lib/python3.9/site-packages/past/builtins/misc.py:45: DeprecationWarning: the imp module is deprecated in favour of importlib; see the module's documentation for alternative uses\n",
      "  from imp import reload\n",
      "/Users/brianroepke/miniforge3/envs/NLP/lib/python3.9/site-packages/past/builtins/misc.py:45: DeprecationWarning: the imp module is deprecated in favour of importlib; see the module's documentation for alternative uses\n",
      "  from imp import reload\n"
     ]
    },
    {
     "data": {
      "text/html": [
       "\n",
       "<link rel=\"stylesheet\" type=\"text/css\" href=\"https://cdn.jsdelivr.net/gh/bmabey/pyLDAvis@3.3.1/pyLDAvis/js/ldavis.v1.0.0.css\">\n",
       "\n",
       "\n",
       "<div id=\"ldavis_el42333107690624807896100801\"></div>\n",
       "<script type=\"text/javascript\">\n",
       "\n",
       "var ldavis_el42333107690624807896100801_data = {\"mdsDat\": {\"x\": [-0.08613725971942031, -0.1569549664013767, 0.03416350232369284, 0.12874809678463728, -0.14463388742983926, -0.06693473223062676, -0.24577778889900492, -0.01575317876595738, 0.034296494377912365, 0.01654846496762846, 0.24789229072984018, 0.254542964262515], \"y\": [0.05713645882326213, -0.11827342092492925, -0.1135157548497278, 0.14859275926149787, 0.29206407670839335, -0.192200849227571, 0.08512694775756446, -0.0661735855521706, -0.041712428137663696, -0.1499197834366695, 0.13445160039347756, -0.03557602081546352], \"topics\": [1, 2, 3, 4, 5, 6, 7, 8, 9, 10, 11, 12], \"cluster\": [1, 1, 1, 1, 1, 1, 1, 1, 1, 1, 1, 1], \"Freq\": [36.69012346290913, 10.091028272460575, 8.01242528443601, 6.714237578788719, 5.810194322648299, 5.7470672023507525, 5.687229266429096, 5.454534415083394, 5.018056844102327, 4.374851928303807, 3.4335151443269014, 2.9667362781610014]}, \"tinfo\": {\"Term\": [\"charge\", \"service\", \"battery\", \"mile\", \"range\", \"\\\"\", \"car\", \"tire\", \"tesla\", \"wheel\", \"work\", \"drive\", \"phone\", \"update\", \"app\", \"week\", \"model\", \"call\", \"day\", \"issue\", \"mode\", \"lane\", \"center\", \"charger\", \"open\", \"video\", \"tax\", \"speed\", \"front\", \"home\", \"forum\", \"upgrade\", \"sell\", \"thread\", \"people\", \"everyone\", \"market\", \"bumper\", \"buy\", \"elon\", \"e\", \"article\", \"technology\", \"mach\", \"trade\", \"refund\", \"future\", \"attention\", \"post\", \"bolt\", \"news\", \"million\", \"resale\", \"america\", \"topic\", \"comment\", \"buyer\", \"porsche\", \"group\", \"june\", \"price\", \"build\", \"share\", \"early\", \"op\", \"love\", \"worth\", \"ever\", \"many\", \"imagine\", \"model\", \"year\", \"make\", \"owner\", \"want\", \"offer\", \"new\", \"tesla\", \"agree\", \"really\", \"guess\", \"question\", \"someone\", \"believe\", \"mean\", \"old\", \"thing\", \"great\", \"d\", \"car\", \"point\", \"even\", \"first\", \"sure\", \"give\", \"come\", \"never\", \"need\", \"long\", \"much\", \"find\", \"way\", \"also\", \"still\", \"since\", \"take\", \"drive\", \"phone\", \"update\", \"app\", \"reboot\", \"connect\", \"wifi\", \"key\", \"spotify\", \"bug\", \"iphone\", \"bluetooth\", \"download\", \"summon\", \"connection\", \"submit\", \"delete\", \"radio\", \"neutral\", \"device\", \"apple\", \"recording\", \"menu\", \"wake\", \"volume\", \"notification\", \"dead\", \"cone\", \"audio\", \"extender\", \"samsung\", \"message\", \"log\", \"reset\", \"google\", \"error\", \"software\", \"work\", \"card\", \"setting\", \"access\", \"fine\", \"problem\", \"issue\", \"fix\", \"program\", \"version\", \"car\", \"screen\", \"show\", \"set\", \"also\", \"lane\", \"light\", \"autopilot\", \"traffic\", \"pass\", \"cruise\", \"pedal\", \"autosteer\", \"tacc\", \"brake\", \"engage\", \"braking\", \"navigation\", \"ap\", \"freeway\", \"shift\", \"wiper\", \"stalk\", \"smooth\", \"assist\", \"visualization\", \"human\", \"vmulla\", \"accelerator\", \"hw\", \"navigate\", \"dot\", \"dark\", \"merge\", \"collision\", \"warning\", \"automatic\", \"speed\", \"steering\", \"highway\", \"street\", \"slow\", \"road\", \"red\", \"control\", \"stop\", \"driver\", \"limit\", \"curve\", \"turn\", \"auto\", \"mph\", \"drive\", \"sign\", \"change\", \"car\", \"wheel\", \"system\", \"vehicle\", \"right\", \"hold\", \"battery\", \"rate\", \"energy\", \"pack\", \"average\", \"degradation\", \"gas\", \"capacity\", \"circuit\", \"kwh\", \"range\", \"loss\", \"maximum\", \"whmi\", \"epa\", \"usage\", \"oil\", \"dc\", \"fuel\", \"variable\", \"meter\", \"soc\", \"kw\", \"vent\", \"ea\", \"lifetime\", \"consumption\", \"requirement\", \"expire\", \"combination\", \"mile\", \"estimate\", \"per\", \"measure\", \"efficient\", \"efficiency\", \"power\", \"trip\", \"charge\", \"ice\", \"low\", \"number\", \"condition\", \"drive\", \"less\", \"cold\", \"fast\", \"high\", \"much\", \"show\", \"car\", \"day\", \"tax\", \"credit\", \"account\", \"rebate\", \"md\", \"demand\", \"cancel\", \"title\", \"breaker\", \"connector\", \"march\", \"insurance\", \"website\", \"code\", \"license\", \"loan\", \"solar\", \"balance\", \"referral\", \"approve\", \"electrician\", \"payment\", \"bill\", \"mercede\", \"american\", \"paperwork\", \"reservation\", \"tradein\", \"qualify\", \"federal\", \"premium\", \"form\", \"exist\", \"california\", \"online\", \"email\", \"total\", \"sale\", \"party\", \"order\", \"vehicle\", \"number\", \"state\", \"company\", \"delivery\", \"pay\", \"purchase\", \"tesla\", \"free\", \"check\", \"cost\", \"open\", \"door\", \"cable\", \"port\", \"teslacam\", \"phantom\", \"firmware\", \"wash\", \"drain\", \"folder\", \"lower\", \"fee\", \"hang\", \"driveway\", \"frunk\", \"six\", \"pop\", \"cybertruck\", \"january\", \"gb\", \"component\", \"record\", \"smell\", \"mi\", \"partition\", \"wipe\", \"lift\", \"motion\", \"forever\", \"afternoon\", \"freeze\", \"onto\", \"lock\", \"button\", \"park\", \"garage\", \"close\", \"press\", \"sit\", \"format\", \"window\", \"power\", \"leave\", \"pull\", \"trunk\", \"car\", \"minute\", \"notice\", \"back\", \"away\", \"inside\", \"hold\", \"drive\", \"day\", \"hand\", \"push\", \"work\", \"happen\", \"put\", \"service\", \"\\\"\", \"appointment\", \"schedule\", \"request\", \"rattle\", \"fund\", \"story\", \"tomorrow\", \"rule\", \"uber\", \"december\", \"damn\", \"february\", \"squeak\", \"film\", \"availability\", \"hardly\", \"pic\", \"chat\", \"forth\", \"diego\", \"team\", \"argue\", \"dec\", \"surely\", \"rental\", \"ya\", \"appt\", \"ny\", \"center\", \"tech\", \"vin\", \"oh\", \"week\", \"yeah\", \"call\", \"delivery\", \"day\", \"text\", \"ready\", \"contact\", \"mine\", \"mobile\", \"receive\", \"customer\", \"fix\", \"issue\", \"tell\", \"ago\", \"later\", \"take\", \"check\", \"wait\", \"back\", \"next\", \"ask\", \"problem\", \"charger\", \"outlet\", \"adapter\", \"station\", \"amp\", \"wall\", \"wow\", \"mail\", \"volt\", \"room\", \"house\", \"daily\", \"voltage\", \"fl\", \"cycle\", \"grin\", \"router\", \"security\", \"frequently\", \"setup\", \"min\", \"cord\", \"fake\", \"ccs\", \"fantastic\", \"dmv\", \"comparison\", \"scs\", \"dryer\", \"yup\", \"plug\", \"supercharger\", \"charge\", \"home\", \"sc\", \"parking\", \"night\", \"charging\", \"worry\", \"route\", \"hour\", \"trip\", \"network\", \"spend\", \"location\", \"leave\", \"work\", \"stop\", \"day\", \"garage\", \"need\", \"set\", \"car\", \"paint\", \"plate\", \"aftermarket\", \"scratch\", \"body\", \"chip\", \"blind\", \"curb\", \"loaner\", \"picture\", \"damage\", \"tag\", \"nema\", \"mat\", \"sensor\", \"wrap\", \"tow\", \"silver\", \"plastic\", \"excellent\", \"loose\", \"lte\", \"spec\", \"taycan\", \"costco\", \"blade\", \"gap\", \"buck\", \"dirt\", \"screw\", \"shop\", \"rear\", \"replacement\", \"kit\", \"panel\", \"install\", \"piece\", \"front\", \"side\", \"fit\", \"replace\", \"sticker\", \"cover\", \"repair\", \"area\", \"wire\", \"touch\", \"remove\", \"instal\", \"quality\", \"part\", \"spot\", \"small\", \"back\", \"wheel\", \"right\", \"mode\", \"video\", \"ford\", \"sentry\", \"song\", \"dashcam\", \"view\", \"command\", \"icon\", \"voice\", \"flash\", \"click\", \"youtube\", \"event\", \"reverse\", \"homelink\", \"web\", \"browser\", \"footage\", \"fluid\", \"arm\", \"gray\", \"suspension\", \"player\", \"fold\", \"km\", \"\\u2026\", \"backup\", \"override\", \"tired\", \"save\", \"file\", \"usb\", \"watch\", \"manual\", \"camera\", \"page\", \"play\", \"screen\", \"music\", \"drive\", \"automatically\", \"x\", \"mirror\", \"turn\", \"show\", \"tire\", \"awd\", \"snow\", \"rim\", \"wear\", \"mache\", \"rotate\", \"mustang\", \"aero\", \"pressure\", \"oem\", \"weight\", \"michelin\", \"rack\", \"cam\", \"steer\", \"canada\", \"chill\", \"bar\", \"afford\", \"sport\", \"psi\", \"jack\", \"torque\", \"rating\", \"mass\", \"rotation\", \"rwd\", \"building\", \"bike\", \"boost\", \"dual\", \"lr\", \"motor\", \"wheel\", \"winter\", \"performance\", \"swap\", \"acceleration\", \"summer\", \"dash\", \"mount\", \"ride\", \"low\", \"road\", \"drive\", \"size\", \"seat\", \"cool\", \"air\", \"black\", \"cell\", \"tint\", \"windshield\", \"glass\", \"cabin\", \"ac\", \"clean\", \"roof\", \"filter\", \"fan\", \"water\", \"hot\", \"face\", \"heater\", \"heat\", \"protection\", \"waste\", \"suck\", \"heating\", \"enhance\", \"magic\", \"ball\", \"ceramic\", \"lucky\", \"sensitive\", \"pin\", \"climate\", \"blow\", \"interior\", \"crack\", \"temp\", \"window\", \"cold\", \"temperature\", \"weather\", \"outside\", \"turn\", \"warm\", \"set\"], \"Freq\": [7287.0, 4775.0, 5062.0, 4911.0, 4178.0, 3837.0, 23381.0, 2942.0, 15534.0, 3389.0, 7104.0, 8467.0, 3496.0, 3435.0, 3063.0, 2558.0, 9290.0, 2407.0, 3866.0, 4636.0, 1833.0, 2226.0, 2026.0, 1732.0, 1723.0, 1550.0, 1682.0, 2118.0, 2166.0, 1997.0, 1662.9062489883217, 1572.1878124443308, 1500.9006518655915, 1384.7288852439035, 3261.84877876906, 763.9883171845313, 734.1145188518311, 597.0220259951335, 3407.2705977460846, 539.8093519416519, 529.0494266113341, 496.08959546141233, 432.57512082350974, 392.21767642642936, 443.6129054123902, 383.4396324006307, 531.9425247735816, 368.60095610912873, 2427.7694432002086, 348.2114585055582, 347.18198358872456, 339.9294882752948, 332.36669996580787, 302.93927149398445, 298.16852765177725, 566.5677120388339, 285.437012913344, 283.85267530872363, 293.5730532692241, 273.72775340322227, 2316.216521685317, 1054.8127318949764, 790.5594920443464, 877.2647473210865, 771.1946635467087, 1336.8785452666461, 662.6800239608197, 1161.3985954840166, 2028.4891558517836, 426.1853673163024, 8789.880979434878, 4669.10361886619, 6445.669095093133, 1448.7235898624083, 3071.2918371406727, 812.0115785768475, 4180.666805460858, 13889.27417201529, 788.4928616909748, 2842.0689648862144, 1181.018768345312, 1233.3681373219774, 1387.6416016479102, 971.5688893499241, 1617.5701161641234, 1363.580508404856, 2630.423861693261, 1778.020649434478, 1578.1986310536658, 14872.307663406238, 1461.0717588902248, 2820.1920358923508, 2547.836944970696, 2363.3324284240994, 2088.04381786221, 2682.4695209764736, 1956.5843937114437, 3235.030335063448, 2332.997798909136, 2421.0790522074294, 2149.3489361462916, 2333.740746552312, 2703.9282785889463, 2153.606489606194, 2000.196403472402, 2361.5405412327245, 2203.101689683342, 3495.832462120504, 3434.281034627415, 3061.7295562554436, 1184.7671568583037, 1119.7473319776109, 1028.7414206028666, 872.6264564278886, 737.1349228423542, 718.0539571434138, 716.3819476056552, 671.3305875521926, 625.4819219601061, 588.6462901952693, 583.905767268628, 433.86332310707246, 420.9937890690213, 392.7047966028606, 386.64574768768057, 373.1194855394379, 367.8410119279678, 311.2898726251186, 276.77110076569556, 269.32129373663423, 320.82026422178365, 251.96774289886838, 240.5697935641526, 234.9388020735877, 233.5291168252584, 226.64473379607927, 203.37896418562443, 961.1455740969901, 500.72748135931204, 791.5386532049565, 600.4425784565065, 646.2198810263628, 1660.7345665141372, 5033.759861840708, 701.8377484370022, 681.809750046572, 458.49225680758957, 897.0751960830993, 1790.6038720654901, 2221.563714808025, 1185.28552858135, 550.94068621491, 711.3628771314865, 2924.1298682202396, 806.132004982967, 750.0771718408104, 639.7220798899343, 638.9428806661524, 2225.1191793940948, 1515.7467470176643, 1499.0900393772226, 880.2099581172117, 579.0900286769637, 556.4043544130612, 516.2136716516767, 452.9703450505957, 444.5807274002329, 1710.88929803697, 405.914739585497, 367.68879322405843, 324.7265930605332, 1221.2809589681642, 272.0462357361174, 276.05832652972407, 259.8772570048367, 259.24926440806576, 254.4234151297328, 231.2556044904455, 223.02944011906274, 221.2635044645491, 208.91353290341854, 204.67061011902052, 200.35601478740705, 189.64230121780193, 188.3330647976849, 170.94581090238108, 170.02570331576882, 166.1151693970345, 437.392540231089, 201.3621332644595, 1946.7489100328346, 624.9685865118887, 761.6835390249936, 392.3203416823814, 825.1206632865047, 1450.567092338374, 540.3049252675777, 1055.9347119799168, 1532.4011543891397, 898.557516799318, 747.925016931116, 322.44242597676833, 1274.4024503736364, 562.3502429890142, 477.59050717753433, 1811.4056845801042, 442.33857856292326, 766.3022490828905, 1537.4643530870026, 599.0209391643652, 494.56633879926613, 550.4456993443441, 514.5749983777363, 491.2696316542505, 5061.866469025157, 1398.402098504718, 846.1859836688049, 640.4736153819701, 523.9560310862142, 478.2600336638476, 475.80722633757637, 467.4436381401564, 448.51610251882175, 390.8182186934239, 4168.63634183332, 345.8868903561783, 283.9262060839429, 263.9793044399676, 252.39163788606703, 219.62167067408367, 201.3811389201035, 196.13879294180288, 191.02056674378815, 189.05484160952025, 188.34693961428277, 183.33742865801452, 180.4671888572655, 175.11236886556227, 163.43280516360738, 160.52473669939604, 159.43973674091384, 154.68452114399673, 153.09984550215052, 136.63486752501558, 4687.710756578335, 599.6111412993566, 921.3274914677036, 231.42443855810055, 279.7953481601114, 423.6539483462627, 1008.7006205082059, 901.0055800669592, 1841.9016865440149, 614.9929987038374, 677.5354251739291, 603.8370286809559, 323.4902333800116, 1163.2235305341158, 542.4491555081115, 373.3439784003651, 394.6516838888726, 413.8522605384588, 460.50224705765214, 411.1858457528577, 507.4767087369044, 360.215938308155, 1681.1514697377415, 1425.2787185258803, 912.847264309823, 844.752662525156, 538.471100560591, 479.05478699019466, 474.72006317709275, 472.36757713237375, 464.3862497446347, 457.58297241769657, 451.09386957423004, 448.18403727301694, 385.059291612698, 341.86501233559136, 332.5503407834613, 311.59030729814395, 276.59887052109406, 263.81290592372886, 249.61747914270484, 246.24023549819395, 241.90492787267257, 238.52053947617048, 235.43992814195445, 235.14985677123124, 228.8401789446947, 227.07675963126323, 226.3802158136027, 214.63823292498617, 212.28107638091103, 207.2146966032037, 517.4649180935409, 892.3661238120538, 305.3144071901649, 328.35339670136426, 286.9612907621082, 666.3270768561774, 580.8435943557561, 654.7275024970346, 350.912436802542, 735.8700894530621, 996.5790315457945, 701.8387739007867, 603.4286836110806, 561.8642418057028, 603.4959054410987, 629.1026965774513, 557.1370292431405, 823.0702584727625, 419.0952498637381, 424.4567885203959, 370.76114164643127, 1723.0245937989682, 1499.0475470482302, 666.3452516152037, 570.3351404946822, 343.18905187954056, 314.8690194174556, 308.3953128842059, 302.13843234711055, 283.1959248542818, 242.28744528052303, 236.9649651681997, 231.2505208517946, 229.24432354191, 218.19989201147578, 377.1857456626322, 206.8555063953025, 234.83470819038226, 193.04575283084432, 182.97999437626754, 175.68178533753954, 169.1281955425487, 541.2549933609802, 167.03926887192463, 166.31904083409603, 165.57908259306632, 167.38936654726263, 154.01491488757608, 153.75293628702275, 156.78925644306344, 150.98445192077835, 270.4455663329241, 208.28727293198892, 635.3575306890816, 692.1860156165045, 924.1261998777541, 894.0526954472756, 965.7180731936093, 454.12517859050564, 425.09411635257226, 526.0408205589066, 708.7011443955045, 928.006354013629, 961.201492823746, 484.083601626703, 386.64265891989066, 2678.1145908721337, 519.8953366115921, 607.5729498182609, 987.719105914374, 526.5752822026932, 354.6416992518153, 458.3638037074673, 632.8249150586665, 524.5761382685871, 375.92480006292885, 384.71426873189813, 522.9534493614125, 445.2926197077159, 399.43564017987103, 4774.456505932003, 3836.5698434923193, 774.766549135067, 746.095853759459, 516.1855019347644, 415.13825123304315, 361.1440734685712, 391.73048253685386, 252.84038263272362, 245.61948166936156, 242.3137945437099, 225.80184952608187, 200.920892401359, 154.94179089057806, 150.12468215498103, 142.1608737402792, 141.93785591945337, 141.66248177048786, 129.41214865660675, 125.06166161372042, 120.92400141198821, 114.57849063569779, 113.90209667451158, 112.06124382316332, 106.67269869271831, 100.94282377384388, 100.53791941596728, 100.05535816025873, 99.8691856971778, 99.53713527875651, 1978.3514539346006, 549.4415122813674, 432.6191692924582, 466.183739101003, 2449.9239218485927, 550.8750524925936, 2164.8329390853664, 1097.5332980160983, 2062.2378295993867, 290.6344675211896, 313.79373414431666, 472.20123367178627, 697.8105294671423, 439.9672602130577, 517.5388749200553, 401.31460229489556, 780.6011775285639, 1188.8279308392785, 745.3785394092707, 539.4323647222791, 433.55284807353985, 972.6237255489334, 625.183594424182, 588.9963916441615, 689.7165785683821, 517.1997017007552, 461.0669693022697, 441.2618547842209, 1731.6806454560835, 644.6766323375067, 611.9363267966393, 621.7900972205681, 454.2749038628545, 828.276639940919, 391.795319118236, 368.59126561732916, 346.5375442133963, 300.9796066475325, 766.4069587895074, 256.5918884882418, 252.32412926568378, 243.5916429392749, 216.03581807722762, 188.63948317444633, 174.4753471855438, 171.3385808258219, 168.71036324719597, 167.29917332942944, 165.1859770421102, 153.7040179659496, 151.73182061578214, 149.80254279400822, 148.3361668970455, 145.26468676430835, 144.2628178702938, 142.2845655912195, 136.21121090934238, 126.31174143146575, 1349.4281813821765, 925.1609832049991, 5431.055757484119, 1554.375519416278, 867.8661662263472, 804.368439966277, 547.9660550935204, 244.88604058610127, 435.4192288749938, 367.9259020071955, 815.8564670207602, 1026.3700594407908, 525.5613566036427, 353.60427261963633, 442.0866451593602, 574.4547509333999, 850.8995768597581, 553.7685561021424, 647.215422270015, 438.89491466050987, 594.7987900837578, 445.13133484156776, 365.5379111230653, 1006.9885256259084, 661.3052896409397, 651.6681011257834, 609.4060944585102, 578.2115743806377, 402.80843347808656, 354.5372540689399, 330.1385106478361, 296.45759612513615, 305.3808361219501, 591.8058168562421, 273.63407740537315, 272.77753126636713, 250.78376310644518, 539.4112876252705, 224.68191572357722, 222.50347835614215, 209.26843109945148, 228.2111288012831, 210.27585843870176, 217.6637069472885, 206.639703148092, 204.99194310207622, 188.5103569195695, 182.41689575416677, 160.0498622952319, 158.15462730794977, 151.81397932578787, 150.74620190747743, 148.7765947817872, 996.2434023392576, 1480.5857890581892, 328.8757569744996, 230.89018249989147, 449.5331526158563, 698.3028773965711, 470.4106063832008, 1572.9643645821543, 1170.0202244612, 435.12649507159097, 734.6507443885791, 343.67176676942717, 568.8421975948773, 521.9982909526499, 633.2696706179584, 381.50225044410274, 495.16213425293427, 444.2321899125577, 517.8127542580316, 361.3850371992493, 527.225493782118, 377.2862926036046, 364.804594891609, 408.1697102448819, 393.48484447858755, 380.4477627686846, 1832.067656483521, 1549.4931578481503, 1103.2182726488466, 1016.34618185474, 919.0144874605737, 630.1758569130882, 604.5262201130902, 513.7712676426528, 501.7098046259089, 463.31010035342445, 667.6414153185383, 342.5076194933225, 309.333174609423, 284.8349239804992, 278.41588955827683, 250.8281083652602, 250.06450178874545, 240.80149914649382, 223.5918302735576, 216.48253770663354, 206.98705570259094, 189.07574125718295, 183.99219673257468, 182.021439081347, 180.45418153617757, 176.20937130548617, 180.91327908370138, 169.5198959401107, 160.38133862523594, 155.4224487557209, 924.6778906922747, 511.1846887826615, 1258.852927377029, 495.3794832898805, 627.2738211845403, 758.7380324876207, 419.6691231220534, 735.1826357587319, 1033.6762560301274, 476.33928540290714, 1732.079677099815, 319.64373687543366, 403.3054731475634, 353.09491300036296, 345.6970831092063, 307.8487480416178, 2941.858124829162, 1009.0511338772087, 885.0121958287197, 677.6254352430939, 412.2411406222843, 298.9642941895408, 294.31212265141244, 289.4356340849495, 280.985056010047, 280.2986005602205, 276.9753110923957, 281.2748577077049, 263.32732685680975, 254.06085185952702, 240.69072568020457, 240.03098324400577, 219.0071022289987, 207.17353290796694, 193.62773498527395, 185.30608909422736, 176.9549373160496, 152.6664171767913, 148.9967128225257, 146.4021333377686, 142.3779476212374, 131.92909319757777, 130.7911286742404, 1092.616209115583, 126.35239017211676, 118.94220676327319, 217.26543345487698, 184.5234109378713, 1281.401117874445, 609.087465176337, 2396.3107004417197, 738.6057581800221, 553.8612502326791, 276.3981391398947, 283.2169890847077, 262.92510378630186, 263.0667353302649, 221.60066313636042, 233.67934817899402, 391.88312993651607, 347.3024944975046, 416.18822660145105, 234.6134000792401, 1206.5756087233342, 821.2744117626851, 753.6119004763794, 731.0895841353585, 664.622367681803, 657.4730839237124, 636.3989077857439, 601.6694350051974, 580.7080825256145, 572.2500556864322, 544.7222754393615, 485.74945708494727, 481.76837748736955, 389.3627634911718, 387.56479613194745, 375.3031868044543, 340.69391919995326, 376.5246860248969, 1111.4260290988973, 253.20641168734628, 244.5765374389522, 217.69329144062277, 227.15592863808442, 215.1561786495745, 214.22732821389246, 202.65474097426758, 193.68398256225112, 178.11695801712943, 177.13598271058783, 172.12343538662984, 376.9734822986158, 210.47039123910133, 601.5524095598362, 299.2259441190868, 485.9874826390249, 585.3135249554055, 427.3769548494467, 322.4207451093727, 344.9668526496205, 349.4826948112019, 486.6149116401122, 275.81273537742686, 315.45094579222655], \"Total\": [7287.0, 4775.0, 5062.0, 4911.0, 4178.0, 3837.0, 23381.0, 2942.0, 15534.0, 3389.0, 7104.0, 8467.0, 3496.0, 3435.0, 3063.0, 2558.0, 9290.0, 2407.0, 3866.0, 4636.0, 1833.0, 2226.0, 2026.0, 1732.0, 1723.0, 1550.0, 1682.0, 2118.0, 2166.0, 1997.0, 1663.8612738984737, 1573.1506341517056, 1501.8557748875826, 1385.6852960080614, 3264.518600155733, 764.9772532651517, 735.0695296256346, 597.9770445291565, 3412.7694215683796, 540.7643502519267, 530.0044637933153, 497.0445974690207, 433.5301403558447, 393.1727526237765, 444.6988659564296, 384.39465400965753, 533.2888145653402, 369.5571561336554, 2434.365474383248, 349.16773676746595, 348.14762590660257, 340.8845620658717, 333.321752039375, 303.89430729502345, 299.12353350462183, 568.4345959206919, 286.3920241310969, 284.80769333975013, 294.5889040590639, 274.6827723848671, 2327.305175933168, 1060.1678530133413, 793.737757178536, 881.785877052765, 774.3165752849735, 1352.5441850565317, 666.5544034933638, 1175.9916089497624, 2065.623508724666, 427.85481961734604, 9290.532893309797, 4889.537670537783, 6804.882899944063, 1485.2556039669937, 3226.366123633391, 824.4980923994397, 4472.867325395352, 15534.958722652558, 801.3647011858624, 3052.7437137600386, 1226.2385063640604, 1288.106217005061, 1463.1665686591891, 1002.3331760362069, 1758.535631780415, 1458.4140298225648, 3068.924877519934, 1997.1279764514761, 1749.227331044123, 23381.563388436236, 1603.5057912771765, 3646.777697612814, 3270.6531340672445, 2992.375268696339, 2615.363730594849, 3726.4156559903695, 2417.260656478919, 5123.367819223016, 3173.072614841952, 3415.0309560032347, 2929.559171661803, 3482.4655037475427, 4902.272445268338, 3504.313043308097, 3063.7500179274916, 5014.722477719361, 8467.0280698466, 3496.774562201256, 3435.2659302474885, 3063.0633839238844, 1185.7092557240082, 1120.6894350697644, 1029.6835163201997, 873.5685613285564, 738.0825693100145, 718.9960647094588, 717.3240456552996, 672.2726838272795, 626.4244283300953, 589.5884262393023, 584.847868664984, 434.80551770147383, 421.9358930723723, 393.64690569505314, 387.587960066304, 374.06159468830094, 368.7831736697674, 312.23202184465725, 277.7164072459741, 270.26339537756996, 321.95428898899655, 252.91087476997814, 241.51192355081702, 235.88090965246138, 234.47122519422618, 227.58689963704902, 204.3210715135996, 974.6214927378032, 505.04459335924355, 806.5466989953403, 611.0745920021858, 678.9990785741978, 1979.9000669677353, 7104.136501090614, 816.1878612737302, 813.0508455571862, 504.55218555162315, 1181.83736383517, 2888.268098856319, 4636.237696241783, 2245.560384196751, 677.3110126936372, 1196.7341782707952, 23381.563388436236, 1918.2250629546354, 2541.9162395018197, 2242.600618563789, 4902.272445268338, 2226.0763232233353, 1516.7060043913723, 1500.0471961444782, 881.1671034173506, 580.0471875703566, 557.3614997027569, 517.170818754164, 453.92749584399326, 445.53786789386004, 1714.8790912245252, 406.87189134573947, 368.6459684752399, 325.68375244548577, 1225.1655325968875, 273.0033875175828, 277.0399416232442, 260.83442133371636, 260.2064107894933, 255.38057973960503, 232.21280611708988, 223.98658924534783, 222.25283550544705, 209.87069332304526, 205.6277553205833, 201.3141230924767, 190.59946113687377, 189.38010526895638, 171.90302463996002, 170.98285502953783, 167.07236509036758, 441.6947807661159, 203.5443239471928, 2118.348051801065, 675.9305565873251, 854.7680332716969, 430.91509147105296, 1010.5977287902632, 2002.8405001251035, 655.721659693837, 1484.3425252426896, 2410.2624868305, 1335.8107990575352, 1098.9409486415811, 361.7404775642693, 2916.5842723906176, 845.1245312237711, 658.6074395848703, 8467.0280698466, 692.87566517667, 3116.8763280369626, 23381.563388436236, 3389.618035695498, 1259.2510453101845, 2974.9012252215466, 2727.875494116082, 1535.2386229369151, 5062.819378212549, 1399.7975023785273, 847.1388892515482, 641.4265372322567, 524.9089359972551, 479.21293029650064, 476.76017109607045, 468.3965437637354, 449.4690325017301, 391.7711256897081, 4178.861511303706, 346.8397958201005, 284.87918275995065, 264.9322061528775, 253.34453552648736, 220.57457890164653, 202.33406397194705, 197.0917097579387, 191.97347363460244, 190.00779272556724, 189.2998422416507, 184.2903304706846, 181.42009974788147, 176.06533514530784, 164.38576250297527, 161.47765666444175, 160.39263785450532, 155.63744747665623, 154.05277877596907, 137.5878276686716, 4911.896326482951, 675.9673692873001, 1107.5164696457985, 247.9619940443273, 315.2641709372089, 531.3520994377224, 1948.3203575100363, 2103.0832118998696, 7287.638307905636, 1334.7733222821707, 1570.1542944412076, 1617.7229376048458, 527.8992307920824, 8467.0280698466, 1672.3271539184154, 803.2054508780247, 1068.96648961679, 1436.091141866384, 3415.0309560032347, 2541.9162395018197, 23381.563388436236, 3866.3508405606517, 1682.1188309362628, 1426.2460364986875, 913.8145811101087, 845.7199872152511, 539.4460330348553, 480.0221273612314, 475.68739590303335, 473.3348979532112, 465.35357056544916, 458.5502934412277, 452.0612198130473, 449.1513455965616, 386.02666353689676, 342.8323284689037, 333.5176579538195, 312.55762125387855, 277.56646314520583, 264.78027371580794, 250.5847857145825, 247.20760720338134, 242.87224299837115, 239.48784894814455, 236.4072466434897, 236.11721381680843, 229.80753070375076, 228.04407934099902, 227.34753850295772, 215.6055496288627, 213.24839023724638, 208.18200389106295, 524.3775637470094, 920.0171087874947, 309.82281059285873, 336.21114436514586, 305.8478239246525, 901.0932914230846, 761.3543119759518, 992.946432013071, 415.17580353209786, 1521.480033116061, 2974.9012252215466, 1617.7229376048458, 1301.9479913970927, 1276.4889487832902, 1701.909719597205, 2024.116595962433, 1678.0521451086381, 15534.958722652558, 1014.717317509, 2056.783811257011, 1407.0526635168667, 1723.9691153551566, 1499.9916441706907, 667.2893572657697, 571.2792356370046, 344.13316759245606, 315.81312665301243, 309.3394156522079, 303.08256471569575, 284.14002754054627, 243.23154901635007, 237.90910357527014, 232.19462640316388, 230.18845484125626, 219.14399400323956, 378.88928978561324, 207.799676945047, 235.98318554741246, 193.98987073745042, 183.92413140742926, 176.6258990653017, 170.0723177100333, 544.3108597802305, 167.98336719899146, 167.26318975288515, 166.52318271221046, 168.35224905337404, 154.95901313418463, 154.697046478265, 157.75684345724937, 151.92860755860684, 292.32422118350047, 218.3024436459771, 787.0762182624183, 913.0347743120269, 1358.3811333146648, 1342.3063491516343, 1577.4731466155642, 656.6797679997014, 603.1092326108862, 817.9659376632234, 1294.8602666526767, 1948.3203575100363, 2177.8523689809117, 799.9265898248417, 573.175131511012, 23381.563388436236, 1124.6380982668677, 1539.9303736250504, 5063.949496169632, 1579.3683129381222, 626.9511493174566, 1535.2386229369151, 8467.0280698466, 3866.3508405606517, 827.1036787398535, 972.7134627824244, 7104.136501090614, 2581.4736125184945, 2072.745025379119, 4775.409370412353, 3837.5236222131903, 775.7194046538918, 747.0487170286402, 517.1383754266078, 416.09111923252436, 362.09708475555084, 392.77178052296216, 253.7932459984159, 246.5729251691846, 243.26666430418322, 226.75472177076864, 201.8737788199025, 155.8946772714273, 151.0775775320828, 143.11381898694495, 142.89077426012076, 142.6155501640135, 130.36501526148703, 126.01451751343733, 121.87690774521265, 115.53137628589843, 114.8549578202455, 113.01414334356006, 107.62558113376043, 101.89580672769883, 101.4907840702344, 101.00822530980744, 100.82204291183433, 100.49001648573176, 2026.788032124153, 559.2340749622422, 440.165796486092, 475.410393707919, 2558.7611278123404, 578.7886469705612, 2407.3719081935646, 1701.909719597205, 3866.3508405606517, 373.81969593785936, 419.04308458616924, 719.9042822473568, 1400.952754883543, 750.272157715632, 1047.1190390132422, 732.4970843176383, 2245.560384196751, 4636.237696241783, 2277.742662281462, 1283.73363766736, 847.5723595385272, 5014.722477719361, 2056.783811257011, 2117.039367998619, 5063.949496169632, 1937.1452733307076, 1714.013567150771, 2888.268098856319, 1732.632439602192, 645.6262843438656, 612.8859816182572, 622.7790088024307, 455.22455319574755, 830.2587690996392, 392.7449901069137, 369.5410017678847, 347.4872038284144, 301.9292943207974, 769.0478610303221, 257.54155213720844, 253.27379193963105, 244.54132222945518, 216.98551118006134, 189.5891819039386, 175.4250055479652, 172.28825352692368, 169.66004758344715, 168.2488447316338, 166.13565410168476, 154.65366560739128, 152.68147859270965, 150.75219215375202, 149.28586566040258, 146.21437205096652, 145.2125011914623, 143.2342251322678, 137.1608616337525, 127.26141003462146, 1382.6091285833895, 956.0446775932019, 7287.638307905636, 1997.9471463511204, 1089.0076061928894, 1017.8425242789218, 664.2493260462708, 266.7787849845934, 568.5535397467328, 496.0615626234331, 1477.132004631086, 2103.0832118998696, 870.5631472135063, 548.6281841238318, 851.6647028997376, 2177.8523689809117, 7104.136501090614, 2410.2624868305, 3866.3508405606517, 1342.3063491516343, 5123.367819223016, 2242.600618563789, 23381.563388436236, 1007.9419747439641, 662.2587432286763, 652.6215917317908, 610.3595498007553, 579.165031578754, 403.7618907787977, 355.490719560521, 331.0919639331113, 297.4110683874252, 306.3632089734729, 593.7551711377863, 274.58759367978365, 273.7309904728832, 251.7372103275693, 541.51618205463, 225.63536218034366, 223.45693454832215, 210.2218938030312, 229.25436912941495, 211.23919522484871, 218.66091150749205, 207.59315985549625, 205.9454106406884, 189.4638563723658, 183.37035827690332, 161.0033263587833, 159.10809548025046, 152.76743795658012, 151.6996726571433, 149.73005002754468, 1016.7677547908542, 1547.6845950085944, 334.5115448692964, 239.90631618787705, 498.4317533570997, 818.023619338372, 535.5866158889042, 2166.8537667785226, 1593.9993283850565, 503.4906545424039, 1091.867667077103, 402.5263549137822, 806.0577591491493, 725.3973494171524, 1087.167469083488, 508.29951974164857, 852.1176340805505, 724.4598204765265, 1056.0822144558251, 516.7895447711544, 1634.6967975285156, 655.7742587664478, 984.1066349763506, 5063.949496169632, 3389.618035695498, 2727.875494116082, 1833.0179950435988, 1550.4434907500627, 1104.1686543226485, 1017.2965084393348, 919.9649204329099, 631.1261805799029, 605.476561950037, 514.7215984926657, 502.6601358642774, 464.2604396312478, 669.5921898282068, 343.5310098428484, 310.2835109195855, 285.7852590723815, 279.3662292049305, 251.7784469978956, 251.0148421405091, 241.75182705326085, 224.5421527720511, 217.43288808093283, 207.93743674746318, 190.02608962969583, 184.94257360703554, 182.97177916390234, 181.40452272603173, 177.15973435259934, 181.9042067936894, 170.47024284246618, 161.33170288196436, 156.3728387015084, 930.3753589937725, 535.6072630197048, 1374.8885786948754, 535.1510995942285, 692.0071552479282, 922.8579140760978, 519.8146539850644, 1077.3673566543723, 1918.2250629546354, 829.3707658912144, 8467.0280698466, 449.32582112207473, 903.0011102259064, 665.0422897122074, 2916.5842723906176, 2541.9162395018197, 2942.8283799010546, 1010.0213991113927, 885.9824624134673, 678.5956988664373, 413.2114032589527, 299.9345881014716, 295.28238557289467, 290.40599024381385, 281.95531406035263, 281.2688640855056, 277.94558028461455, 282.26644613467283, 264.2975789306872, 255.0311148822696, 241.66100429180258, 241.00128537937593, 219.97737777109495, 208.1437987046282, 194.598010076326, 186.2763732818287, 177.9252006472152, 153.63667084353773, 149.9669719167153, 147.3822952549403, 143.3482171580955, 132.8993843800398, 131.76138431032692, 1100.7231594802272, 127.32271684985895, 119.91246561456568, 219.3883654412786, 186.06423017542622, 1477.415435078201, 676.4864000297387, 3389.618035695498, 929.8174337437204, 779.0892219203348, 329.9395639268007, 357.23121838860624, 325.3561078309847, 404.9717043145175, 277.6138573372622, 324.14296405679835, 1570.1542944412076, 2002.8405001251035, 8467.0280698466, 450.1872857878822, 1207.516765944953, 822.2155763941836, 754.5538387489177, 732.0307949961402, 665.5635496267572, 658.4142349508547, 637.3400638463468, 602.6105868958033, 581.6492369071866, 573.1912472425331, 545.6634569980363, 486.69061364058706, 482.7095323373914, 390.30392257490786, 388.50595078270163, 376.2443488467306, 341.63695401240255, 377.57540338122703, 1115.1323294412964, 254.14757544948566, 245.54639727436387, 218.63446342010735, 228.1465498009518, 216.0973710931091, 215.1684818390678, 203.59589789888426, 194.62513442191417, 179.0581274862567, 178.0771644244942, 173.06459673997693, 381.39684275134783, 211.7026937605, 618.1985132096295, 321.8451064072815, 578.2582073741805, 1294.8602666526767, 803.2054508780247, 533.0525476026183, 647.4398748379955, 675.7033864212121, 2916.5842723906176, 491.29132416050834, 2242.600618563789], \"Category\": [\"Default\", \"Default\", \"Default\", \"Default\", \"Default\", \"Default\", \"Default\", \"Default\", \"Default\", \"Default\", \"Default\", \"Default\", \"Default\", \"Default\", \"Default\", \"Default\", \"Default\", \"Default\", \"Default\", \"Default\", \"Default\", \"Default\", \"Default\", \"Default\", \"Default\", \"Default\", \"Default\", \"Default\", \"Default\", \"Default\", \"Topic1\", \"Topic1\", \"Topic1\", \"Topic1\", \"Topic1\", \"Topic1\", \"Topic1\", \"Topic1\", \"Topic1\", \"Topic1\", \"Topic1\", \"Topic1\", \"Topic1\", \"Topic1\", \"Topic1\", \"Topic1\", \"Topic1\", \"Topic1\", \"Topic1\", \"Topic1\", \"Topic1\", \"Topic1\", \"Topic1\", \"Topic1\", \"Topic1\", \"Topic1\", \"Topic1\", \"Topic1\", \"Topic1\", \"Topic1\", \"Topic1\", \"Topic1\", \"Topic1\", \"Topic1\", \"Topic1\", \"Topic1\", \"Topic1\", \"Topic1\", \"Topic1\", \"Topic1\", \"Topic1\", \"Topic1\", \"Topic1\", \"Topic1\", \"Topic1\", \"Topic1\", \"Topic1\", \"Topic1\", \"Topic1\", \"Topic1\", \"Topic1\", \"Topic1\", \"Topic1\", \"Topic1\", \"Topic1\", \"Topic1\", \"Topic1\", \"Topic1\", \"Topic1\", \"Topic1\", \"Topic1\", \"Topic1\", \"Topic1\", \"Topic1\", \"Topic1\", \"Topic1\", \"Topic1\", \"Topic1\", \"Topic1\", \"Topic1\", \"Topic1\", \"Topic1\", \"Topic1\", \"Topic1\", \"Topic1\", \"Topic1\", \"Topic1\", \"Topic2\", \"Topic2\", \"Topic2\", \"Topic2\", \"Topic2\", \"Topic2\", \"Topic2\", \"Topic2\", \"Topic2\", \"Topic2\", \"Topic2\", \"Topic2\", \"Topic2\", \"Topic2\", \"Topic2\", \"Topic2\", \"Topic2\", \"Topic2\", \"Topic2\", \"Topic2\", \"Topic2\", \"Topic2\", \"Topic2\", \"Topic2\", \"Topic2\", \"Topic2\", \"Topic2\", \"Topic2\", \"Topic2\", \"Topic2\", \"Topic2\", \"Topic2\", \"Topic2\", \"Topic2\", \"Topic2\", \"Topic2\", \"Topic2\", \"Topic2\", \"Topic2\", \"Topic2\", \"Topic2\", \"Topic2\", \"Topic2\", \"Topic2\", \"Topic2\", \"Topic2\", \"Topic2\", \"Topic2\", \"Topic2\", \"Topic2\", \"Topic2\", \"Topic3\", \"Topic3\", \"Topic3\", \"Topic3\", \"Topic3\", \"Topic3\", \"Topic3\", \"Topic3\", \"Topic3\", \"Topic3\", \"Topic3\", \"Topic3\", \"Topic3\", \"Topic3\", \"Topic3\", \"Topic3\", \"Topic3\", \"Topic3\", \"Topic3\", \"Topic3\", \"Topic3\", \"Topic3\", \"Topic3\", \"Topic3\", \"Topic3\", \"Topic3\", \"Topic3\", \"Topic3\", \"Topic3\", \"Topic3\", \"Topic3\", \"Topic3\", \"Topic3\", \"Topic3\", \"Topic3\", \"Topic3\", \"Topic3\", \"Topic3\", \"Topic3\", \"Topic3\", \"Topic3\", \"Topic3\", \"Topic3\", \"Topic3\", \"Topic3\", \"Topic3\", \"Topic3\", \"Topic3\", \"Topic3\", \"Topic3\", \"Topic3\", \"Topic3\", \"Topic3\", \"Topic3\", \"Topic3\", \"Topic3\", \"Topic4\", \"Topic4\", \"Topic4\", \"Topic4\", \"Topic4\", \"Topic4\", \"Topic4\", \"Topic4\", \"Topic4\", \"Topic4\", \"Topic4\", \"Topic4\", \"Topic4\", \"Topic4\", \"Topic4\", \"Topic4\", \"Topic4\", \"Topic4\", \"Topic4\", \"Topic4\", \"Topic4\", \"Topic4\", \"Topic4\", \"Topic4\", \"Topic4\", \"Topic4\", \"Topic4\", \"Topic4\", \"Topic4\", \"Topic4\", \"Topic4\", \"Topic4\", \"Topic4\", \"Topic4\", \"Topic4\", \"Topic4\", \"Topic4\", \"Topic4\", \"Topic4\", \"Topic4\", \"Topic4\", \"Topic4\", \"Topic4\", \"Topic4\", \"Topic4\", \"Topic4\", \"Topic4\", \"Topic4\", \"Topic4\", \"Topic4\", \"Topic4\", \"Topic4\", \"Topic5\", \"Topic5\", \"Topic5\", \"Topic5\", \"Topic5\", \"Topic5\", \"Topic5\", \"Topic5\", \"Topic5\", \"Topic5\", \"Topic5\", \"Topic5\", \"Topic5\", \"Topic5\", \"Topic5\", \"Topic5\", \"Topic5\", \"Topic5\", \"Topic5\", \"Topic5\", \"Topic5\", \"Topic5\", \"Topic5\", \"Topic5\", \"Topic5\", \"Topic5\", \"Topic5\", \"Topic5\", \"Topic5\", \"Topic5\", \"Topic5\", \"Topic5\", \"Topic5\", \"Topic5\", \"Topic5\", \"Topic5\", \"Topic5\", \"Topic5\", \"Topic5\", \"Topic5\", \"Topic5\", \"Topic5\", \"Topic5\", \"Topic5\", \"Topic5\", \"Topic5\", \"Topic5\", \"Topic5\", \"Topic5\", \"Topic5\", \"Topic5\", \"Topic6\", \"Topic6\", \"Topic6\", \"Topic6\", \"Topic6\", \"Topic6\", \"Topic6\", \"Topic6\", \"Topic6\", \"Topic6\", \"Topic6\", \"Topic6\", \"Topic6\", \"Topic6\", \"Topic6\", \"Topic6\", \"Topic6\", \"Topic6\", \"Topic6\", \"Topic6\", \"Topic6\", \"Topic6\", \"Topic6\", \"Topic6\", \"Topic6\", \"Topic6\", \"Topic6\", \"Topic6\", \"Topic6\", \"Topic6\", \"Topic6\", \"Topic6\", \"Topic6\", \"Topic6\", \"Topic6\", \"Topic6\", \"Topic6\", \"Topic6\", \"Topic6\", \"Topic6\", \"Topic6\", \"Topic6\", \"Topic6\", \"Topic6\", \"Topic6\", \"Topic6\", \"Topic6\", \"Topic6\", \"Topic6\", \"Topic6\", \"Topic6\", \"Topic6\", \"Topic6\", \"Topic6\", \"Topic6\", \"Topic6\", \"Topic6\", \"Topic6\", \"Topic6\", \"Topic7\", \"Topic7\", \"Topic7\", \"Topic7\", \"Topic7\", \"Topic7\", \"Topic7\", \"Topic7\", \"Topic7\", \"Topic7\", \"Topic7\", \"Topic7\", \"Topic7\", \"Topic7\", \"Topic7\", \"Topic7\", \"Topic7\", \"Topic7\", \"Topic7\", \"Topic7\", \"Topic7\", \"Topic7\", \"Topic7\", \"Topic7\", \"Topic7\", \"Topic7\", \"Topic7\", \"Topic7\", \"Topic7\", \"Topic7\", \"Topic7\", \"Topic7\", \"Topic7\", \"Topic7\", \"Topic7\", \"Topic7\", \"Topic7\", \"Topic7\", \"Topic7\", \"Topic7\", \"Topic7\", \"Topic7\", \"Topic7\", \"Topic7\", \"Topic7\", \"Topic7\", \"Topic7\", \"Topic7\", \"Topic7\", \"Topic7\", \"Topic7\", \"Topic7\", \"Topic7\", \"Topic7\", \"Topic7\", \"Topic7\", \"Topic7\", \"Topic7\", \"Topic8\", \"Topic8\", \"Topic8\", \"Topic8\", \"Topic8\", \"Topic8\", \"Topic8\", \"Topic8\", \"Topic8\", \"Topic8\", \"Topic8\", \"Topic8\", \"Topic8\", \"Topic8\", \"Topic8\", \"Topic8\", \"Topic8\", \"Topic8\", \"Topic8\", \"Topic8\", \"Topic8\", \"Topic8\", \"Topic8\", \"Topic8\", \"Topic8\", \"Topic8\", \"Topic8\", \"Topic8\", \"Topic8\", \"Topic8\", \"Topic8\", \"Topic8\", \"Topic8\", \"Topic8\", \"Topic8\", \"Topic8\", \"Topic8\", \"Topic8\", \"Topic8\", \"Topic8\", \"Topic8\", \"Topic8\", \"Topic8\", \"Topic8\", \"Topic8\", \"Topic8\", \"Topic8\", \"Topic8\", \"Topic8\", \"Topic8\", \"Topic8\", \"Topic8\", \"Topic8\", \"Topic9\", \"Topic9\", \"Topic9\", \"Topic9\", \"Topic9\", \"Topic9\", \"Topic9\", \"Topic9\", \"Topic9\", \"Topic9\", \"Topic9\", \"Topic9\", \"Topic9\", \"Topic9\", \"Topic9\", \"Topic9\", \"Topic9\", \"Topic9\", \"Topic9\", \"Topic9\", \"Topic9\", \"Topic9\", \"Topic9\", \"Topic9\", \"Topic9\", \"Topic9\", \"Topic9\", \"Topic9\", \"Topic9\", \"Topic9\", \"Topic9\", \"Topic9\", \"Topic9\", \"Topic9\", \"Topic9\", \"Topic9\", \"Topic9\", \"Topic9\", \"Topic9\", \"Topic9\", \"Topic9\", \"Topic9\", \"Topic9\", \"Topic9\", \"Topic9\", \"Topic9\", \"Topic9\", \"Topic9\", \"Topic9\", \"Topic9\", \"Topic9\", \"Topic9\", \"Topic9\", \"Topic9\", \"Topic9\", \"Topic9\", \"Topic10\", \"Topic10\", \"Topic10\", \"Topic10\", \"Topic10\", \"Topic10\", \"Topic10\", \"Topic10\", \"Topic10\", \"Topic10\", \"Topic10\", \"Topic10\", \"Topic10\", \"Topic10\", \"Topic10\", \"Topic10\", \"Topic10\", \"Topic10\", \"Topic10\", \"Topic10\", \"Topic10\", \"Topic10\", \"Topic10\", \"Topic10\", \"Topic10\", \"Topic10\", \"Topic10\", \"Topic10\", \"Topic10\", \"Topic10\", \"Topic10\", \"Topic10\", \"Topic10\", \"Topic10\", \"Topic10\", \"Topic10\", \"Topic10\", \"Topic10\", \"Topic10\", \"Topic10\", \"Topic10\", \"Topic10\", \"Topic10\", \"Topic10\", \"Topic10\", \"Topic10\", \"Topic11\", \"Topic11\", \"Topic11\", \"Topic11\", \"Topic11\", \"Topic11\", \"Topic11\", \"Topic11\", \"Topic11\", \"Topic11\", \"Topic11\", \"Topic11\", \"Topic11\", \"Topic11\", \"Topic11\", \"Topic11\", \"Topic11\", \"Topic11\", \"Topic11\", \"Topic11\", \"Topic11\", \"Topic11\", \"Topic11\", \"Topic11\", \"Topic11\", \"Topic11\", \"Topic11\", \"Topic11\", \"Topic11\", \"Topic11\", \"Topic11\", \"Topic11\", \"Topic11\", \"Topic11\", \"Topic11\", \"Topic11\", \"Topic11\", \"Topic11\", \"Topic11\", \"Topic11\", \"Topic11\", \"Topic11\", \"Topic11\", \"Topic11\", \"Topic11\", \"Topic11\", \"Topic11\", \"Topic12\", \"Topic12\", \"Topic12\", \"Topic12\", \"Topic12\", \"Topic12\", \"Topic12\", \"Topic12\", \"Topic12\", \"Topic12\", \"Topic12\", \"Topic12\", \"Topic12\", \"Topic12\", \"Topic12\", \"Topic12\", \"Topic12\", \"Topic12\", \"Topic12\", \"Topic12\", \"Topic12\", \"Topic12\", \"Topic12\", \"Topic12\", \"Topic12\", \"Topic12\", \"Topic12\", \"Topic12\", \"Topic12\", \"Topic12\", \"Topic12\", \"Topic12\", \"Topic12\", \"Topic12\", \"Topic12\", \"Topic12\", \"Topic12\", \"Topic12\", \"Topic12\", \"Topic12\", \"Topic12\", \"Topic12\", \"Topic12\"], \"logprob\": [30.0, 29.0, 28.0, 27.0, 26.0, 25.0, 24.0, 23.0, 22.0, 21.0, 20.0, 19.0, 18.0, 17.0, 16.0, 15.0, 14.0, 13.0, 12.0, 11.0, 10.0, 9.0, 8.0, 7.0, 6.0, 5.0, 4.0, 3.0, 2.0, 1.0, -5.4237, -5.4798, -5.5262, -5.6067, -4.75, -6.2015, -6.2413, -6.448, -4.7063, -6.5488, -6.5689, -6.6332, -6.7702, -6.8682, -6.7451, -6.8908, -6.5635, -6.9303, -5.0453, -6.9872, -6.9902, -7.0113, -7.0338, -7.1265, -7.1423, -6.5004, -7.186, -7.1915, -7.1579, -7.2279, -5.0923, -5.8789, -6.1673, -6.0632, -6.1921, -5.6419, -6.3437, -5.7826, -5.225, -6.7851, -3.7586, -4.3913, -4.0688, -5.5616, -4.8101, -6.1405, -4.5018, -3.3011, -6.1699, -4.8877, -5.7659, -5.7225, -5.6046, -5.9611, -5.4513, -5.6221, -4.9651, -5.3567, -5.476, -3.2327, -5.5531, -4.8954, -4.997, -5.0722, -5.196, -4.9455, -5.261, -4.7582, -5.0851, -5.048, -5.1671, -5.0848, -4.9375, -5.1651, -5.239, -5.0729, -5.1424, -3.3898, -3.4076, -3.5224, -4.4718, -4.5283, -4.6131, -4.7776, -4.9464, -4.9726, -4.9749, -5.0399, -5.1106, -5.1713, -5.1794, -5.4764, -5.5065, -5.5761, -5.5916, -5.6272, -5.6415, -5.8084, -5.926, -5.9532, -5.7783, -6.0198, -6.0661, -6.0898, -6.0958, -6.1258, -6.2341, -4.681, -5.3331, -4.8752, -5.1515, -5.078, -4.1341, -3.0252, -4.9954, -5.0244, -5.4212, -4.75, -4.0588, -3.8432, -4.4714, -5.2375, -4.982, -3.5684, -4.8569, -4.929, -5.0881, -5.0893, -3.6109, -3.9948, -4.0059, -4.5383, -4.957, -4.997, -5.072, -5.2027, -5.2214, -3.8737, -5.3123, -5.4113, -5.5355, -4.2108, -5.7125, -5.6979, -5.7583, -5.7607, -5.7795, -5.875, -5.9112, -5.9191, -5.9766, -5.9971, -6.0184, -6.0733, -6.0803, -6.1771, -6.1825, -6.2058, -5.2377, -6.0134, -3.7446, -4.8808, -4.683, -5.3464, -4.603, -4.0388, -5.0264, -4.3563, -3.9839, -4.5177, -4.7012, -5.5426, -4.1683, -4.9864, -5.1497, -3.8166, -5.2264, -4.6769, -3.9806, -4.9232, -5.1148, -5.0078, -5.0751, -5.1215, -2.6122, -3.8986, -4.401, -4.6795, -4.8803, -4.9716, -4.9767, -4.9944, -5.0358, -5.1735, -2.8064, -5.2956, -5.493, -5.5659, -5.6107, -5.7498, -5.8365, -5.8629, -5.8893, -5.8997, -5.9034, -5.9304, -5.9462, -5.9763, -6.0453, -6.0633, -6.0701, -6.1003, -6.1106, -6.2244, -2.689, -4.7454, -4.3159, -5.6975, -5.5077, -5.0928, -4.2253, -4.3382, -3.6232, -4.7201, -4.6233, -4.7384, -5.3626, -4.0828, -4.8456, -5.2192, -5.1637, -5.1162, -5.0094, -5.1227, -4.9123, -5.255, -3.5699, -3.735, -4.1805, -4.2581, -4.7084, -4.8253, -4.8344, -4.8394, -4.8564, -4.8712, -4.8854, -4.8919, -5.0437, -5.1627, -5.1903, -5.2554, -5.3745, -5.4219, -5.4772, -5.4908, -5.5086, -5.5227, -5.5357, -5.5369, -5.5641, -5.5718, -5.5749, -5.6282, -5.6392, -5.6634, -4.7482, -4.2032, -5.2758, -5.203, -5.3378, -4.4953, -4.6326, -4.5129, -5.1366, -4.3961, -4.0928, -4.4434, -4.5945, -4.6658, -4.5944, -4.5528, -4.6743, -4.2841, -4.959, -4.9463, -5.0816, -3.5343, -3.6736, -4.4844, -4.64, -5.1479, -5.234, -5.2548, -5.2753, -5.34, -5.4961, -5.5183, -5.5427, -5.5514, -5.6008, -5.0534, -5.6542, -5.5273, -5.7233, -5.7768, -5.8175, -5.8555, -4.6923, -5.868, -5.8723, -5.8767, -5.8659, -5.9491, -5.9508, -5.9313, -5.969, -5.3861, -5.6473, -4.532, -4.4463, -4.1573, -4.1904, -4.1133, -4.8678, -4.9339, -4.7208, -4.4228, -4.1531, -4.118, -4.8039, -5.0287, -3.0933, -4.7326, -4.5767, -4.0908, -4.7198, -5.1151, -4.8585, -4.536, -4.7236, -5.0568, -5.0337, -4.7267, -4.8875, -4.9961, -2.5047, -2.7234, -4.3232, -4.3609, -4.7293, -4.9471, -5.0864, -5.0051, -5.443, -5.4719, -5.4855, -5.5561, -5.6728, -5.9327, -5.9643, -6.0188, -6.0203, -6.0223, -6.1127, -6.1469, -6.1806, -6.2345, -6.2404, -6.2567, -6.306, -6.3612, -6.3652, -6.37, -6.3719, -6.3752, -3.3857, -4.6668, -4.9059, -4.8311, -3.1719, -4.6642, -3.2956, -3.9749, -3.3442, -5.3037, -5.227, -4.8183, -4.4278, -4.889, -4.7266, -4.981, -4.3157, -3.895, -4.3618, -4.6852, -4.9037, -4.0957, -4.5377, -4.5973, -4.4394, -4.7273, -4.8422, -4.8861, -3.4771, -4.4652, -4.5173, -4.5013, -4.8152, -4.2146, -4.9632, -5.0243, -5.086, -5.2269, -4.2922, -5.3865, -5.4032, -5.4384, -5.5585, -5.6941, -5.7722, -5.7903, -5.8058, -5.8142, -5.8269, -5.8989, -5.9118, -5.9246, -5.9345, -5.9554, -5.9623, -5.9761, -6.0197, -6.0952, -3.7265, -4.104, -2.3341, -3.5851, -4.1679, -4.2439, -4.6277, -5.4331, -4.8576, -5.0261, -4.2297, -4.0002, -4.6695, -5.0658, -4.8424, -4.5805, -4.1876, -4.6172, -4.4613, -4.8497, -4.5457, -4.8356, -5.0326, -3.9358, -4.3563, -4.371, -4.4381, -4.4906, -4.8521, -4.9797, -5.051, -5.1586, -5.129, -4.4674, -5.2387, -5.2419, -5.3259, -4.5601, -5.4359, -5.4456, -5.5069, -5.4203, -5.5021, -5.4676, -5.5196, -5.5276, -5.6114, -5.6442, -5.7751, -5.787, -5.8279, -5.8349, -5.8481, -3.9465, -3.5503, -5.0549, -5.4086, -4.7423, -4.3019, -4.6969, -3.4898, -3.7858, -4.7749, -4.2511, -5.0109, -4.5069, -4.5929, -4.3996, -4.9064, -4.6457, -4.7542, -4.6009, -4.9606, -4.5829, -4.9175, -4.9512, -4.8389, -4.8755, -4.9092, -3.2002, -3.3677, -3.7074, -3.7894, -3.8901, -4.2674, -4.3089, -4.4716, -4.4953, -4.575, -4.2096, -4.8771, -4.9789, -5.0615, -5.0843, -5.1886, -5.1916, -5.2294, -5.3035, -5.3359, -5.3807, -5.4712, -5.4985, -5.5092, -5.5179, -5.5417, -5.5154, -5.5804, -5.6358, -5.6672, -3.8839, -4.4766, -3.5754, -4.508, -4.272, -4.0817, -4.6739, -4.1132, -3.7725, -4.5472, -3.2563, -4.9462, -4.7137, -4.8466, -4.8678, -4.9838, -2.4843, -3.5543, -3.6855, -3.9525, -4.4495, -4.7708, -4.7864, -4.8031, -4.8328, -4.8352, -4.8472, -4.8317, -4.8977, -4.9335, -4.9876, -4.9903, -5.082, -5.1375, -5.2051, -5.2491, -5.2952, -5.4428, -5.4672, -5.4847, -5.5126, -5.5888, -5.5975, -3.4747, -5.632, -5.6924, -5.09, -5.2533, -3.3154, -4.0591, -2.6894, -3.8663, -4.1542, -4.8492, -4.8249, -4.8992, -4.8987, -5.0702, -5.0171, -4.5001, -4.6209, -4.4399, -5.0131, -3.2294, -3.6141, -3.7001, -3.7304, -3.8257, -3.8366, -3.8691, -3.9252, -3.9607, -3.9754, -4.0247, -4.1393, -4.1475, -4.3604, -4.3651, -4.3972, -4.494, -4.394, -3.3116, -4.7908, -4.8254, -4.9419, -4.8993, -4.9536, -4.9579, -5.0135, -5.0587, -5.1425, -5.148, -5.1767, -4.3928, -4.9756, -3.9254, -4.6238, -4.1388, -3.9528, -4.2673, -4.5491, -4.4815, -4.4685, -4.1375, -4.7052, -4.571], \"loglift\": [30.0, 29.0, 28.0, 27.0, 26.0, 25.0, 24.0, 23.0, 22.0, 21.0, 20.0, 19.0, 18.0, 17.0, 16.0, 15.0, 14.0, 13.0, 12.0, 11.0, 10.0, 9.0, 8.0, 7.0, 6.0, 5.0, 4.0, 3.0, 2.0, 1.0, 1.0021, 1.0021, 1.002, 1.002, 1.0018, 1.0014, 1.0014, 1.0011, 1.0011, 1.0009, 1.0009, 1.0007, 1.0005, 1.0002, 1.0002, 1.0002, 1.0001, 1.0001, 0.9999, 0.9999, 0.9999, 0.9999, 0.9998, 0.9995, 0.9995, 0.9994, 0.9993, 0.9993, 0.9992, 0.9992, 0.9979, 0.9976, 0.9987, 0.9975, 0.9986, 0.991, 0.9968, 0.9902, 0.9845, 0.9988, 0.9473, 0.9565, 0.9484, 0.9778, 0.9534, 0.9874, 0.9351, 0.8907, 0.9865, 0.9312, 0.9651, 0.9592, 0.9497, 0.9715, 0.9191, 0.9354, 0.8485, 0.8865, 0.8998, 0.5502, 0.9096, 0.7456, 0.7529, 0.7667, 0.7775, 0.674, 0.7912, 0.5429, 0.6951, 0.6587, 0.693, 0.6024, 0.4077, 0.5158, 0.5763, 0.2496, -0.3437, 2.2933, 2.2932, 2.2931, 2.2927, 2.2927, 2.2926, 2.2924, 2.2922, 2.2922, 2.2922, 2.2921, 2.292, 2.2919, 2.2919, 2.2914, 2.2913, 2.2911, 2.2911, 2.291, 2.291, 2.2905, 2.2901, 2.29, 2.29, 2.2898, 2.2896, 2.2895, 2.2895, 2.2894, 2.2889, 2.2796, 2.2849, 2.2747, 2.276, 2.244, 2.1177, 1.949, 2.1426, 2.1175, 2.1978, 2.0178, 1.8154, 1.5578, 1.6546, 2.087, 1.7734, 0.2146, 1.4266, 1.073, 1.0392, 0.2559, 2.5237, 2.5235, 2.5235, 2.5231, 2.5225, 2.5225, 2.5223, 2.5221, 2.522, 2.5218, 2.5218, 2.5216, 2.5212, 2.521, 2.5207, 2.5206, 2.5205, 2.5205, 2.5204, 2.52, 2.5199, 2.5197, 2.5196, 2.5195, 2.5194, 2.5191, 2.5186, 2.5186, 2.5186, 2.5184, 2.5144, 2.5134, 2.4397, 2.4458, 2.4089, 2.4303, 2.3214, 2.2016, 2.3306, 2.1836, 2.0713, 2.1277, 2.1394, 2.4092, 1.6962, 2.1168, 2.2028, 0.9821, 2.0754, 1.1212, -0.1976, 0.791, 1.5896, 0.8369, 0.8562, 1.3847, 2.7008, 2.6999, 2.6998, 2.6995, 2.6991, 2.6989, 2.6989, 2.6989, 2.6988, 2.6985, 2.6985, 2.6982, 2.6976, 2.6973, 2.6972, 2.6966, 2.6962, 2.6961, 2.696, 2.6959, 2.6959, 2.6958, 2.6957, 2.6955, 2.6951, 2.695, 2.695, 2.6948, 2.6947, 2.694, 2.6542, 2.5811, 2.5169, 2.6319, 2.5816, 2.4744, 2.0426, 1.8533, 1.3256, 1.926, 1.8605, 1.7155, 2.2112, 0.716, 1.5751, 1.9348, 1.7045, 1.4568, 0.6973, 0.8793, -1.1293, 0.3276, 2.845, 2.8449, 2.8445, 2.8444, 2.8437, 2.8435, 2.8435, 2.8435, 2.8435, 2.8434, 2.8434, 2.8434, 2.843, 2.8427, 2.8427, 2.8425, 2.8421, 2.8419, 2.8417, 2.8416, 2.8416, 2.8415, 2.8415, 2.8415, 2.8413, 2.8413, 2.8413, 2.8411, 2.841, 2.8409, 2.8323, 2.815, 2.8309, 2.8219, 2.7818, 2.5437, 2.5749, 2.4291, 2.6774, 2.1192, 1.7519, 2.0105, 2.0766, 2.0249, 1.8088, 1.677, 1.743, -0.0923, 1.9613, 1.2675, 1.5119, 2.8559, 2.8559, 2.8551, 2.8548, 2.8537, 2.8535, 2.8534, 2.8534, 2.8532, 2.8526, 2.8525, 2.8524, 2.8524, 2.8522, 2.852, 2.8519, 2.8516, 2.8516, 2.8513, 2.8511, 2.8509, 2.8509, 2.8508, 2.8508, 2.8508, 2.8507, 2.8504, 2.8504, 2.8503, 2.8502, 2.7787, 2.8095, 2.6423, 2.5796, 2.4713, 2.4501, 2.3658, 2.4877, 2.5067, 2.415, 2.2538, 2.1148, 2.0386, 2.3542, 2.4628, 0.6896, 2.0849, 1.9265, 1.222, 1.7581, 2.2867, 1.6477, 0.2627, 0.859, 2.0679, 1.9289, 0.2475, 1.0991, 1.2099, 2.8667, 2.8667, 2.8657, 2.8657, 2.8651, 2.8647, 2.8643, 2.8643, 2.8632, 2.8631, 2.863, 2.8627, 2.8622, 2.8608, 2.8606, 2.8603, 2.8603, 2.8602, 2.8596, 2.8594, 2.8591, 2.8587, 2.8586, 2.8585, 2.8581, 2.8576, 2.8575, 2.8575, 2.8575, 2.8574, 2.8428, 2.8493, 2.8497, 2.8473, 2.8235, 2.8175, 2.7608, 2.4283, 2.2384, 2.6152, 2.5777, 2.4452, 2.17, 2.3332, 2.1622, 2.2652, 1.8103, 1.506, 1.7499, 1.9999, 2.1966, 1.2268, 1.6761, 1.5876, 0.8733, 1.5464, 1.5539, 0.9882, 2.9082, 2.9073, 2.9072, 2.9071, 2.9066, 2.9063, 2.9063, 2.9061, 2.906, 2.9056, 2.9053, 2.905, 2.905, 2.9048, 2.9043, 2.9037, 2.9033, 2.9032, 2.9031, 2.9031, 2.903, 2.9026, 2.9025, 2.9024, 2.9023, 2.9022, 2.9022, 2.9021, 2.9018, 2.9012, 2.8844, 2.8759, 2.6147, 2.6577, 2.6817, 2.6733, 2.7163, 2.8231, 2.6419, 2.6099, 2.3151, 2.1913, 2.404, 2.4695, 2.253, 1.576, 0.7866, 1.438, 1.1213, 1.7908, 0.7554, 1.2917, -1.2496, 2.9912, 2.9907, 2.9907, 2.9906, 2.9905, 2.9898, 2.9894, 2.9892, 2.9889, 2.9889, 2.9888, 2.9886, 2.9886, 2.9883, 2.9882, 2.9879, 2.9879, 2.9876, 2.9876, 2.9876, 2.9876, 2.9875, 2.9875, 2.9871, 2.9869, 2.9862, 2.9861, 2.9859, 2.9858, 2.9857, 2.9717, 2.9478, 2.9751, 2.9538, 2.8889, 2.8339, 2.8624, 2.6718, 2.6829, 2.8462, 2.5959, 2.8341, 2.6436, 2.6631, 2.4517, 2.7052, 2.4493, 2.503, 2.2794, 2.6344, 1.8605, 2.4393, 1.9998, 0.4739, 0.8387, 1.0222, 3.1288, 3.1287, 3.1284, 3.1284, 3.1283, 3.1278, 3.1277, 3.1274, 3.1274, 3.1272, 3.1264, 3.1263, 3.1262, 3.126, 3.1259, 3.1255, 3.1255, 3.1254, 3.1251, 3.1249, 3.1247, 3.1243, 3.1241, 3.1241, 3.124, 3.1239, 3.1238, 3.1237, 3.1234, 3.1232, 3.1232, 3.0826, 3.0411, 3.0521, 3.0311, 2.9335, 2.9153, 2.7471, 2.511, 2.5748, 1.5424, 2.7888, 2.3233, 2.4962, 0.9967, 1.0182, 3.3713, 3.3706, 3.3705, 3.3702, 3.3692, 3.3683, 3.3683, 3.3682, 3.3681, 3.3681, 3.3681, 3.3681, 3.3679, 3.3678, 3.3676, 3.3676, 3.3672, 3.3669, 3.3666, 3.3664, 3.3661, 3.3653, 3.3651, 3.3649, 3.3648, 3.3643, 3.3642, 3.3642, 3.3639, 3.3635, 3.3619, 3.3633, 3.2292, 3.2666, 3.0248, 3.1414, 3.0304, 3.1945, 3.1394, 3.1585, 2.9402, 3.1462, 3.0444, 1.9836, 1.6195, 0.3588, 2.7199, 3.5169, 3.5166, 3.5165, 3.5164, 3.5163, 3.5163, 3.5162, 3.5161, 3.5161, 3.5161, 3.516, 3.5158, 3.5158, 3.5153, 3.5153, 3.5152, 3.5149, 3.5149, 3.5144, 3.514, 3.5138, 3.5134, 3.5134, 3.5133, 3.5133, 3.5131, 3.5129, 3.5124, 3.5124, 3.5123, 3.506, 3.5119, 3.4904, 3.4448, 3.3439, 2.7237, 2.8868, 3.0149, 2.8881, 2.8584, 1.727, 2.9404, 1.5563]}, \"token.table\": {\"Topic\": [7, 12, 3, 4, 11, 3, 2, 5, 9, 10, 5, 8, 11, 11, 9, 6, 1, 2, 3, 5, 6, 7, 1, 3, 12, 12, 1, 2, 3, 4, 5, 6, 7, 8, 9, 10, 11, 12, 1, 5, 8, 1, 3, 2, 2, 7, 5, 7, 3, 7, 8, 9, 11, 12, 7, 10, 1, 1, 5, 7, 3, 1, 2, 3, 6, 10, 12, 3, 10, 6, 8, 10, 3, 3, 7, 4, 1, 2, 3, 6, 7, 8, 10, 11, 1, 2, 3, 4, 5, 6, 7, 8, 9, 10, 11, 12, 10, 5, 12, 11, 4, 1, 2, 3, 4, 5, 10, 11, 5, 12, 9, 9, 12, 2, 9, 1, 1, 11, 3, 11, 3, 5, 10, 9, 2, 1, 5, 7, 9, 11, 1, 6, 10, 1, 11, 1, 12, 6, 4, 5, 11, 2, 5, 7, 11, 3, 10, 11, 5, 4, 1, 2, 3, 4, 5, 6, 7, 8, 9, 10, 11, 12, 2, 5, 8, 12, 3, 7, 9, 12, 1, 2, 3, 4, 5, 6, 11, 12, 4, 6, 8, 8, 4, 8, 7, 2, 4, 5, 6, 7, 8, 9, 10, 11, 11, 9, 4, 12, 10, 4, 12, 1, 3, 4, 6, 7, 8, 9, 11, 5, 4, 11, 12, 3, 4, 1, 2, 3, 4, 5, 6, 7, 8, 9, 10, 11, 12, 10, 1, 10, 1, 5, 8, 6, 4, 11, 12, 2, 2, 2, 5, 4, 2, 5, 7, 2, 3, 10, 12, 12, 8, 1, 4, 5, 9, 9, 1, 9, 11, 12, 9, 12, 5, 3, 9, 3, 4, 1, 5, 7, 6, 8, 1, 2, 4, 5, 6, 7, 8, 9, 11, 12, 8, 9, 12, 7, 3, 11, 12, 10, 1, 2, 3, 4, 5, 6, 7, 8, 12, 4, 2, 7, 7, 4, 2, 5, 7, 5, 2, 7, 9, 8, 6, 3, 2, 6, 1, 2, 3, 4, 6, 7, 8, 10, 11, 2, 3, 6, 9, 10, 12, 6, 8, 4, 11, 1, 4, 1, 2, 3, 4, 4, 11, 4, 12, 5, 1, 5, 7, 4, 3, 12, 4, 2, 6, 4, 7, 1, 2, 3, 4, 5, 6, 7, 8, 9, 10, 11, 12, 10, 1, 2, 3, 6, 8, 1, 9, 5, 10, 12, 4, 2, 12, 8, 12, 8, 1, 3, 4, 8, 11, 7, 5, 6, 2, 5, 10, 7, 12, 1, 2, 3, 4, 5, 6, 7, 8, 9, 10, 11, 12, 2, 3, 6, 8, 9, 11, 6, 1, 2, 3, 4, 5, 6, 7, 8, 9, 10, 11, 1, 8, 9, 11, 2, 6, 7, 9, 8, 6, 10, 10, 10, 6, 10, 10, 6, 5, 9, 2, 6, 7, 1, 1, 5, 8, 3, 4, 6, 8, 3, 6, 9, 11, 12, 6, 12, 4, 7, 1, 9, 2, 6, 8, 4, 6, 1, 2, 3, 4, 5, 7, 8, 9, 10, 11, 12, 1, 2, 10, 1, 2, 3, 6, 7, 8, 9, 10, 11, 12, 8, 1, 1, 2, 3, 4, 5, 6, 7, 10, 12, 1, 3, 5, 6, 9, 6, 1, 2, 3, 6, 7, 9, 10, 7, 4, 12, 12, 12, 1, 3, 4, 5, 6, 8, 10, 11, 12, 3, 4, 11, 1, 2, 3, 5, 6, 9, 10, 11, 2, 6, 8, 10, 12, 2, 4, 6, 7, 8, 2, 8, 3, 3, 1, 4, 11, 10, 1, 10, 2, 6, 9, 11, 12, 2, 5, 6, 9, 2, 5, 9, 5, 1, 12, 2, 1, 2, 3, 6, 7, 8, 9, 11, 12, 11, 6, 1, 2, 9, 11, 10, 4, 4, 3, 2, 3, 5, 6, 7, 8, 11, 2, 3, 4, 6, 8, 9, 10, 11, 1, 3, 4, 5, 6, 8, 11, 12, 5, 4, 6, 3, 3, 4, 5, 5, 9, 2, 5, 8, 10, 2, 6, 10, 2, 5, 1, 2, 3, 4, 5, 6, 7, 8, 9, 10, 11, 9, 4, 1, 3, 11, 4, 5, 6, 8, 9, 11, 12, 6, 4, 11, 9, 12, 1, 11, 12, 8, 1, 2, 3, 4, 5, 6, 7, 8, 9, 10, 11, 12, 3, 10, 1, 2, 3, 4, 8, 12, 5, 1, 11, 9, 4, 5, 1, 2, 3, 4, 5, 8, 10, 4, 9, 2, 5, 3, 2, 6, 4, 6, 11, 4, 8, 11, 1, 8, 2, 4, 5, 6, 7, 8, 9, 11, 12, 2, 4, 6, 7, 8, 10, 12, 9, 10, 2, 7, 8, 10, 1, 2, 4, 6, 9, 10, 11, 6, 4, 11, 8, 11, 3, 4, 1, 3, 4, 8, 9, 11, 12, 2, 10, 11, 3, 3, 1, 2, 3, 4, 5, 6, 7, 8, 9, 10, 11, 12, 9, 1, 2, 8, 2, 1, 2, 3, 4, 6, 7, 8, 11, 1, 2, 4, 5, 9, 11, 1, 1, 2, 3, 4, 5, 6, 7, 8, 10, 2, 6, 8, 2, 3, 4, 6, 9, 11, 12, 2, 1, 2, 4, 5, 7, 7, 11, 1, 5, 7, 8, 4, 1, 2, 3, 4, 6, 9, 10, 11, 1, 5, 7, 9, 6, 9, 1, 4, 6, 1, 5, 7, 11, 8, 6, 8, 12, 10, 1, 4, 10, 4, 7, 10, 9, 5, 9, 5, 6, 8, 10, 3, 6, 8, 10, 1, 5, 7, 9, 12, 6, 1, 5, 3, 1, 5, 5, 3, 1, 8, 4, 5, 1, 11, 6, 2, 7, 9, 9, 12, 12, 9, 9, 2, 10, 10, 6, 8, 1, 2, 3, 4, 8, 9, 10, 12, 6, 1, 6, 1, 7, 2, 4, 5, 6, 8, 1, 5, 6, 10, 11, 1, 5, 1, 2, 3, 6, 7, 8, 9, 12, 2, 4, 9, 10, 12, 11, 3, 6, 9, 10, 1, 5, 2, 3, 4, 6, 7, 1, 2, 3, 4, 5, 6, 8, 9, 10, 11, 12, 5, 7, 9, 11, 12, 1, 4, 5, 7, 11, 2, 4, 11, 4, 5, 11, 7, 2, 3, 5, 7, 8, 1, 2, 3, 4, 6, 7, 8, 9, 10, 11, 12, 6, 9, 10, 11, 5, 2, 2, 5, 7, 2, 6, 2, 3, 9, 10, 5, 1, 2, 6, 9, 10, 7, 7, 9, 7, 9, 11, 12, 9, 11, 7, 4, 1, 5, 2, 6, 10, 8, 9, 11, 1, 2, 3, 4, 5, 6, 7, 8, 9, 10, 11, 3, 4, 8, 11, 12, 8, 11, 11, 3, 8, 8, 7, 4, 11, 1, 5, 2, 5, 10, 8, 9, 7, 9, 2, 3, 6, 10, 9, 8, 12, 8, 1, 12, 9, 10, 10, 7, 2, 3, 4, 6, 7, 8, 10, 11, 12, 2, 3, 10, 12, 8, 1, 5, 7, 3, 7, 9, 11, 1, 2, 3, 4, 5, 6, 7, 9, 10, 12, 3, 6, 9, 10, 12, 3, 5, 9, 1, 2, 3, 4, 5, 6, 7, 8, 9, 10, 11, 6, 8, 6, 4, 9, 11, 3, 4, 8, 1, 4, 6, 8, 9, 10, 11, 12, 6, 3, 11, 4, 1, 2, 3, 4, 10, 5, 1, 2, 5, 6, 10, 10, 9, 3, 4, 4, 8, 9, 11, 3, 6, 8, 9, 2, 7, 3, 1, 3, 4, 5, 7, 10, 8, 11, 3, 9, 4, 9, 1, 2, 3, 4, 5, 6, 7, 8, 9, 10, 11, 12, 2, 3, 6, 8, 7, 3, 8, 2, 12, 4, 11, 2, 4, 8, 1, 2, 3, 5, 6, 7, 8, 9, 10, 11, 12, 7, 10, 9, 11, 1, 2, 3, 4, 5, 6, 10, 12, 3, 9, 1, 2, 3, 4, 5, 6, 7, 8, 9, 10, 11, 5, 9, 7, 2, 4, 7, 9, 1, 1, 2, 3, 4, 5, 6, 7, 8, 9, 4, 12, 4, 12, 1, 2, 4, 5, 7, 8, 9, 6, 2, 7, 1, 2, 3, 4, 5, 6, 7, 8, 9, 10, 11, 12, 1, 12, 11, 10, 5, 7, 1, 11, 1, 5, 2, 3, 6, 7, 9, 10, 9, 1, 5, 3, 3, 4, 8, 6, 9, 2, 3, 6, 8, 10, 12, 7, 2, 1, 4, 2, 6, 10, 4, 1, 2, 3, 4, 5, 10, 11, 4, 1, 2, 3, 11, 10, 10, 5, 7, 3, 3, 10, 8, 8, 2, 1, 2, 3, 5, 6, 7, 8, 10, 2, 5, 8, 1, 2, 3, 4, 5, 6, 7, 8, 9, 10, 11, 12, 4, 12, 3, 10, 6, 12, 8, 10, 12, 1, 2, 3, 4, 5, 6, 7, 8, 9, 10, 11, 12, 11, 4, 11, 12, 10, 5, 1, 2, 4, 6, 7, 8, 11, 3, 9, 11, 4, 2, 6, 12, 12, 4, 11, 6, 3, 5, 9, 1, 2, 3, 6, 7, 8, 9, 10, 12, 6, 8, 9, 1, 8, 8, 9, 2, 4, 6, 9, 10, 11, 12, 7, 2, 7, 10, 11, 1, 4, 5, 11, 10, 8, 10], \"Freq\": [0.9998635520547263, 0.9979217281347824, 0.20434944160056173, 0.002799307419185777, 0.7922039996295749, 0.9969471274945125, 0.9077356378890163, 0.07135039948472618, 0.001981955541242394, 0.017837599871181546, 0.9991085925668649, 0.9985544103718641, 0.9966118245951976, 0.9931479593501769, 0.9990475464807388, 0.9938878689568149, 0.5094514787260439, 0.04362275658816278, 0.0023369333886515777, 0.001557955592434385, 0.022590356090298584, 0.41986903216106675, 0.9833225731479247, 0.009982970285765733, 0.00374361385716215, 0.999266004994639, 0.5515809311271336, 0.13034771264431894, 0.0532406150237359, 0.0314140027343116, 0.03569773037989955, 0.03345387304173444, 0.007343533106722193, 0.027538249150208225, 0.032637924918765306, 0.025090404781300826, 0.0387575358410338, 0.032637924918765306, 0.9970571765460705, 0.9964860563912862, 0.9973100018723705, 0.0024486487092410564, 0.99660002466111, 0.9996528364612154, 0.9978763302512584, 0.9990725968055255, 0.9951150079196882, 0.9918465953665194, 0.08002446952661617, 0.07634518357136943, 0.21891751433717985, 0.5822470024177935, 0.00091982148881168, 0.0413919669965256, 0.9910264033017788, 0.9954917365428445, 0.9978983828124481, 0.6639387352643383, 0.06651055871716571, 0.2689593646369596, 0.9947771781523611, 0.9984923681644149, 0.9979902642900602, 0.6649907548964453, 0.19168772650039884, 0.06389590883346627, 0.07809499968534767, 0.9874999022431454, 0.004912934837030574, 0.2225556495958232, 0.06454113838278873, 0.7121780787066343, 0.999301891202377, 0.9979567313007361, 0.9937660477750706, 0.9982683929822451, 0.21021062489368011, 0.12346708389839645, 0.07408025033903787, 0.3336777087920766, 0.08737670552809595, 0.17032125932650588, 0.001266329065624579, 0.9989887351770058, 0.35288661574363756, 0.07109075638931703, 0.04482667138993046, 0.00039494864660731684, 0.013033305338041454, 0.19510463142401452, 0.1362572830795243, 0.05785997672797191, 0.08056952390789263, 0.011453510751612187, 0.00868887022536097, 0.027843879585815835, 0.9972414960251993, 0.9970531274673226, 0.9970731340609809, 0.9969269466008853, 0.9998381577237231, 0.9697374318625654, 0.008979050295023754, 0.0029930167650079184, 0.008979050295023754, 0.006983705785018475, 0.0029930167650079184, 0.9923905691548482, 0.9940473624921833, 0.9985918693541497, 0.9937682880132086, 0.9986195995183007, 0.9919571464573508, 0.9981068934408668, 0.9979884290051521, 0.9966556567388595, 0.004558126854122807, 0.9891135273446491, 0.9977379797535725, 0.0017493944706374737, 0.9982477267338317, 0.9970913072316079, 0.9968900873990284, 0.994976429749393, 0.9986146451165052, 0.9951254388645604, 0.0009432468614829956, 0.0018864937229659913, 0.0009432468614829956, 0.9896113051733044, 0.9983660835510403, 0.7579119870011776, 0.24095467794835124, 0.998309460483349, 0.0014650857946629718, 0.9951394451876925, 0.9988837999502264, 0.9980677688745812, 0.0029743213952299536, 0.9755774176354248, 0.017845928371379723, 0.04153907406647345, 0.058570094433727564, 0.8993209535391502, 0.9972647457386032, 0.17662523939363348, 0.8224451331274099, 0.995556916893009, 0.9985549419451646, 0.9970184584358508, 0.6360566978748396, 0.12505579509050774, 0.06573555302808154, 0.02168375106391499, 0.0002566124386262129, 0.11453468510683303, 0.008297135515580884, 0.015653358756198988, 0.006287004746342216, 0.002566124386262129, 0.0013685996726731354, 0.0024378181669490223, 0.8600961044733864, 0.13844851824144253, 0.9950104065287166, 0.9991532745038798, 0.009867830124810446, 0.9759283993437532, 0.013321570668494103, 0.9967880077577288, 0.5588928839846294, 0.11068774108765624, 0.24575886861781066, 0.04331259433864809, 0.017966705799735506, 0.000320834032138134, 0.02085421208897871, 0.001925004192828804, 0.2527567810276474, 0.001921061310742163, 0.7452345699029063, 0.9996349833999776, 0.07871690397425252, 0.9183638796996128, 0.9919492013027059, 0.27081115523735444, 0.00388956775924387, 0.2061470912399251, 0.03986806953224967, 0.30387248119092736, 0.0748741793654445, 0.009237723428204192, 0.0777913551848774, 0.012641095217542577, 0.9945047668402971, 0.9981130195885299, 0.9989564742667153, 0.9987841278547654, 0.998454259360483, 0.010487763797792645, 0.9884717379419568, 0.015848130317550557, 0.10966906179744985, 0.11727616434987413, 0.6123717554701535, 0.04627654052724763, 0.08177635243856088, 0.012044579041338424, 0.005071401701616179, 0.9975721995862499, 0.46438927872346325, 0.0024900229422169613, 0.5316198981633212, 0.9935814334717321, 0.9957276186517956, 0.7197264738002516, 0.006977214138257472, 0.05367087798659594, 0.008318986087922371, 0.001073417559731919, 0.04481518311880761, 0.10116960500473335, 0.02146835119463838, 0.02951898289262777, 0.001878480729530858, 0.003488607069128736, 0.007513922918123432, 0.9985980800207745, 0.9974762339748722, 0.001759217343871027, 0.5593467931552112, 0.44027016492048837, 0.9916501597210035, 0.9936949309301378, 0.6118591980430755, 0.2765679347191611, 0.10986945351857083, 0.9962654474507526, 0.99938481166308, 0.9985502748485354, 0.9987999278397621, 0.9913173205881893, 0.027781471083301687, 0.31531969679547417, 0.6556427175659199, 0.14686637099772984, 0.7114260907045995, 0.05793810965965489, 0.08353866974182797, 0.9985215843276596, 0.995773358459859, 0.5031794604122243, 0.1847834176655061, 0.26367172289962604, 0.0476172653214958, 0.9925268277284273, 0.16127876510639155, 0.7059047488118215, 0.1265418003142457, 0.006203029427168907, 0.06835586299752504, 0.9290183198299993, 0.9991263523495942, 0.9975572412097302, 0.9967019316321072, 0.8901409158525568, 0.10504768572173032, 0.3071684581647175, 0.1447104736242669, 0.5474424521068965, 0.9948973070929558, 0.9954581705723037, 0.9021125910821914, 0.002858404914709098, 0.0022867239317672784, 0.008003533761185474, 0.014292024573545491, 0.0011433619658836392, 0.052594650430647406, 0.005716809829418196, 0.005716809829418196, 0.004573447863534557, 0.9978972242237636, 0.9970439480393527, 0.0016841958581745823, 0.9956716576812978, 0.99474689499006, 0.6494280889208582, 0.3481724735279126, 0.9982156015475889, 0.02922652512921308, 0.017587643440588403, 0.001293209076513853, 0.09311105350899743, 0.021984554300735502, 0.13578695303395458, 0.533319423154313, 0.1673412545008926, 0.0005172836306055412, 0.9944609047266397, 0.9978803383978294, 0.9941874308396724, 0.996671638125659, 0.9974689115843552, 0.997781906949045, 0.354307865485787, 0.6451576058099405, 0.9978706661568911, 0.9971619789270654, 0.9954005889743452, 0.9953877774098785, 0.991694578077843, 0.9993389002035148, 0.9927125118713164, 0.9977260970906059, 0.9959877967549517, 0.2601857442572424, 0.028227141569442095, 0.21388850787556332, 0.13735634161197136, 0.07476058834082362, 0.003070735066131776, 0.02869956234884698, 0.20455819748231677, 0.04913176105810842, 0.03368740545573459, 0.6729995001045644, 0.06737481091146919, 0.2111077408559368, 0.003743045050637177, 0.011229135151911531, 0.9947797154631459, 0.9915364950327286, 0.005374488148835345, 0.9942803075345389, 0.9981048012574721, 0.9915700576383543, 0.9945725179124425, 0.0011340621640962857, 0.0011340621640962857, 0.0022681243281925715, 0.7979642885549478, 0.20137306338532882, 0.8881440576251449, 0.11101800720314312, 0.9964086344836985, 0.998586537275302, 0.7391021621614728, 0.25968454346213915, 0.9986556050418669, 0.997857086310741, 0.9949218674546657, 0.9946928575992641, 0.9514004074298728, 0.04712819355689772, 0.8876168100134839, 0.11095210125168549, 0.7732854135435719, 0.07540903855478095, 0.052375004959866044, 0.009871728683534961, 0.00027421468565374895, 0.031260474164527374, 0.0027421468565374894, 0.029066756679297385, 0.00027421468565374895, 0.00521007902742123, 0.01535602239660994, 0.004661649656113731, 0.9972522757999124, 0.9872519422454461, 0.0008503462034844496, 0.0034013848139377986, 0.005102077220906698, 0.0017006924069688993, 0.9987225067660763, 0.9941336870577939, 0.9844336490795171, 0.0096829539253723, 0.0032276513084574334, 0.993166116286029, 0.9974212064139676, 0.9981355822169652, 0.9955365994684428, 0.9966592122202984, 0.9913865545494596, 0.24229010218350994, 0.21141916252306273, 0.369515792905353, 0.13377407186193793, 0.04209673590060983, 0.9942610146344536, 0.9943222571165111, 0.9948550643842652, 0.013069277590700768, 0.031739674148844724, 0.9540572641211561, 0.9922172506133279, 0.998530104980617, 0.7335574651598425, 0.08055819533630658, 0.012971234842286652, 0.0006826965706466659, 0.006826965706466659, 0.021163593690046643, 0.011947189986316654, 0.023553031687309975, 0.04539932194800328, 0.05632246707834994, 0.0027307862825866635, 0.0040961794238799955, 0.7589876809184245, 0.0016922802250132097, 0.04146086551282364, 0.12861329710100394, 0.02961490393773117, 0.03976858528781043, 0.9956700776414674, 0.7790492894094875, 0.0428049060115103, 0.016816213075950475, 0.004586239929804675, 0.005197738587111965, 0.08622131068032789, 0.041276159368242075, 0.008866730530955705, 0.00183449597192187, 0.000305749328653645, 0.013147221132106736, 0.005958402550145726, 0.0019861341833819087, 0.8639683697711302, 0.12512645355306024, 0.5277079201875396, 0.00044532313939876767, 0.3477973718704376, 0.12379983275285741, 0.997786377269412, 0.0014934463322467425, 0.9976221499408241, 0.9934099754016997, 0.9922575098739246, 0.9949367217314918, 0.9975855189533099, 0.9989415979904216, 0.9952024683008159, 0.9695471871991392, 0.029347280330018786, 0.35576053549532016, 0.6430585624417127, 0.992804972152347, 0.9994823643581441, 0.46515417826779487, 0.4129228828267077, 0.12121602526893807, 0.9963246334534286, 0.07183804309810403, 0.9236319826899089, 0.9961095874199699, 0.0973762065696271, 0.15783252439247614, 0.7259373124835233, 0.005999481921351433, 0.011998963842702865, 0.9950136099474275, 0.0026392933950860147, 0.9949291242369489, 0.996970191692398, 0.9975832709591131, 0.9930355807672401, 0.006704877769287308, 0.6660178584158726, 0.3270490378574587, 0.9984055482354518, 0.9964563573710654, 0.7983593163636542, 0.006500051905259637, 0.014147171793800385, 0.038235599442703744, 0.0867948107349375, 0.02102957969348706, 0.02829434358760077, 0.0019117799721351872, 0.002294135966562225, 0.0019117799721351872, 0.9989867637424882, 0.016364614289124675, 0.9818768573474804, 0.9946002697224609, 0.8902784503370557, 0.0025035951921739473, 0.004005752307478316, 0.0005007190384347895, 0.008512223653391422, 0.022031637691130736, 0.016523728268348054, 0.0050071903843478946, 0.034549613652000474, 0.017024447306782844, 0.9968923231904807, 0.9980009292578589, 0.9631079059014401, 0.007339518334557969, 0.002446506111519323, 0.014679036669115937, 0.0008155020371731076, 0.005708514260211754, 0.004893012223038646, 0.0008155020371731076, 0.0008155020371731076, 0.05682479864145638, 0.31314091166249364, 0.058033836910423534, 0.454598389131651, 0.11606767382084707, 0.9948370354105037, 0.4121676839307135, 0.22583999974774996, 0.11466319026643909, 0.17238216104245066, 0.07398874777327658, 0.00038737564279202395, 0.00038737564279202395, 0.9956838495991103, 0.002690263676153179, 0.996294314735394, 0.9984760570310612, 0.9949745030027756, 0.3934290683429119, 0.0724188019604652, 0.2882825385733903, 0.03342406244329163, 0.002089003902705727, 0.009748684879293392, 0.0013926692684704846, 0.05849210927576035, 0.14065959611551895, 0.8914699314191483, 0.07838383911428208, 0.02924770116204555, 0.29115994954900754, 0.000651364540378093, 0.3198199893256436, 0.0091191035652933, 0.29832495949316656, 0.016284113509452323, 0.04103596604381985, 0.02279775891323325, 0.16316747947781227, 0.05805959392462031, 0.7777983530936204, 0.9969082063727953, 0.9966927108658382, 0.0006769875656778218, 0.1360745007012422, 0.07853055761862734, 0.23220673502749292, 0.5524218535931027, 0.0026006183767555446, 0.9960368382973737, 0.9943630167750263, 0.9934722757038111, 0.3888300667506775, 0.4607523912363519, 0.14983817601182176, 0.9986867153028908, 0.9956648387903988, 0.002337241405611265, 0.004785061807871334, 0.5662323139314412, 0.09570123615742669, 0.01595020602623778, 0.31740909992213184, 0.36076736714699864, 0.13919370858427507, 0.00946895976763776, 0.4904921159636359, 0.08312718409646812, 0.062345388072351085, 0.8532760955784521, 0.9974366199548341, 0.025881653964079404, 0.9737972303984875, 0.9981541875484041, 0.18873061679069877, 0.4792679205816373, 0.004745226936451854, 0.042922734561541775, 0.2564579467018752, 0.0004313842669501686, 0.021137829080558262, 0.0002156921334750843, 0.006470764004252529, 0.9935521008102217, 0.9949754749398158, 0.9975143239638252, 0.9993491508809661, 0.9628758578373473, 0.033346350054973065, 0.9934537362181232, 0.9921723130465976, 0.9980316934068316, 0.9995164931174612, 0.06253153421479743, 0.030675846973296853, 0.22416965095870778, 0.09556706172450173, 0.5120506764004167, 0.06725089528761233, 0.007079041609222351, 0.0018366717859171192, 0.1864221862705876, 0.011479198661981995, 0.4412603965665879, 0.26356240127910663, 0.09045608545641812, 0.0032141756253549585, 0.0013775038394378393, 0.5429559628165296, 0.01076344419680345, 0.3240992641481928, 0.005979691220446361, 0.0005979691220446362, 0.013753289807026631, 0.055013159228106526, 0.04664159151948162, 0.9984478844178885, 0.9970419643540261, 0.9938111819713631, 0.9995345146723701, 0.6806553172166485, 0.17380369731066825, 0.14468475325861913, 0.9982159409466915, 0.9952554947094738, 0.40978568069303456, 0.010567539043659917, 0.518983584144187, 0.0598827212474062, 0.19057874767344152, 0.8067833651509024, 0.0012705249844896101, 0.9919916114093185, 0.0059400695293971165, 0.7352494831311022, 0.014181837437162278, 0.027733370988228454, 0.09486073485746324, 0.0022060636013363543, 0.002521215544384405, 0.006618190804009064, 0.09927286206013596, 0.0012606077721922025, 0.0028363674874324557, 0.013236381608018127, 0.996977459286456, 0.9975787212706811, 0.988507447499113, 0.008872168563941178, 0.001478694760656863, 0.43180469741114785, 0.012737601693544183, 0.0025475203387088368, 0.08661569151610045, 0.10763273431044836, 0.24965699319346601, 0.10890649447980277, 0.9961787776860648, 0.13198724974040796, 0.8670547021408338, 0.9971426811176768, 0.9940905922500619, 0.997017207789832, 0.9968840269227122, 0.9945694563205509, 0.998536016936425, 0.9472609734479027, 0.008229384814316251, 0.007347665012782366, 0.0005878132010225893, 0.0024982061043460047, 0.0029390660051129467, 0.011903217320707433, 0.008082431514060602, 0.0005878132010225893, 0.0024982061043460047, 0.004261645707413772, 0.003673832506391183, 0.09248459284654428, 0.9060599955434886, 0.9817858827778858, 0.0009682306536271063, 0.003388807287694872, 0.007261729902203297, 0.005809383921762638, 0.00048411532681355313, 0.9976524865072784, 0.9985449952929225, 0.9932325918270026, 0.9970715083137291, 0.9969138399252869, 0.9973194111249274, 0.920083716678444, 0.013647718912412026, 0.015353683776463529, 0.04151181169191991, 0.004549239637470675, 0.0005686549546838344, 0.0034119297281030064, 0.9315943795753834, 0.064526017632927, 0.9974203639854106, 0.9952683931901923, 0.9942517334304188, 0.9860238124858717, 0.01231247216423565, 0.993133421421496, 0.9924478915250188, 0.9950904622889961, 0.9544175382375657, 0.0006107620765172135, 0.04478921894459566, 0.9974050979002658, 0.9931642963226324, 0.10921139165233193, 0.10921139165233193, 0.002855199781760312, 0.13776338946993505, 0.4982323619171744, 0.002141399836320234, 0.1263425903428938, 0.01070699918160117, 0.00356899972720039, 0.004445874639766596, 0.016005148703159746, 0.46237096253572596, 0.05512884553310579, 0.253414854466696, 0.20628858328517005, 0.0008891749279533192, 0.4676394340795728, 0.5307933126369427, 0.11595792154261803, 0.5864538560776085, 0.29589262738461153, 0.9994446344518431, 0.9461244151376682, 0.006350550681811425, 0.021419653994584297, 0.00021527290446818388, 0.0009687280701068275, 0.0044130945415977695, 0.02045092592447747, 0.9954941190272631, 0.0990411632769774, 0.9002398273981976, 0.19811691148105284, 0.7996718972507951, 0.7257737633533113, 0.2733039276225859, 0.7089247597431462, 0.05212251434707973, 0.1349914556966503, 0.04158088223194001, 0.0014641155715471835, 0.045387582717962685, 0.015226801944090707, 0.4244181426165322, 0.5739290792200833, 0.9951585356671416, 0.9968548644718188, 0.9979005632293548, 0.6314206034285088, 0.07904956549877776, 0.028106512177343203, 0.0054651551455945115, 0.03474277199699368, 0.03279093087356707, 0.012296599077587652, 0.11613454684388337, 0.03181501031185376, 0.007026628044335801, 0.007807364493706445, 0.013272519639300958, 0.9973295297269031, 0.048244633527657774, 0.3480505704495311, 0.6042066008463807, 0.9984830280429675, 0.8095941142113513, 0.04633343934168183, 0.031440548124712676, 0.0033095313815487025, 0.07818767888908809, 0.006619062763097405, 0.0169613483304371, 0.006619062763097405, 0.9347471534113625, 0.04605546845317883, 0.00022357023520960597, 0.002012132116886454, 0.0008942809408384239, 0.015873486699882023, 0.9967036227703289, 0.4351764483572027, 0.0862093319995882, 0.08104709655051107, 0.0005162235449077138, 0.004646011904169424, 0.019616494706493123, 0.266887572717288, 0.0862093319995882, 0.02013271825140084, 0.055701975973736446, 0.11742578718787683, 0.8249914279353397, 0.23117928323081482, 0.2727396038116355, 0.02337768032671161, 0.39482304551779607, 0.024027060335786932, 0.020130780281334998, 0.03376776047191677, 0.9963984357303474, 0.05625190685293242, 0.012363056451193939, 0.373364304826057, 0.4339432814369073, 0.12424871733449909, 0.9951237296711825, 0.9965979661067239, 0.9848415751174536, 0.014554308991883551, 0.9802057467979959, 0.016827566468635122, 0.993406626913143, 0.9352625332094128, 0.032226788167773024, 0.0013713526879903413, 0.013713526879903412, 0.008228116127942048, 0.002057029031985512, 0.005485410751961365, 0.002057029031985512, 0.022887198967694772, 0.9383751576754857, 0.03269599852527825, 0.003269599852527825, 0.9528065583054826, 0.041227206849756455, 0.9957167709037446, 0.0025829228817217755, 0.9994378580529518, 0.2786760199091332, 0.4837395062573633, 0.23463995072537866, 0.0026290190557465396, 0.999029958415491, 0.3611051903888167, 0.11987508369464817, 0.5164988174003977, 0.9917455598733829, 0.9755896534777192, 0.0026931391400351118, 0.021545113120280894, 0.9977759928075128, 0.19045249925340604, 0.8079802998629347, 0.9990654474487944, 0.09630205073554085, 0.9028317256456955, 0.9954215897908151, 0.6802214616639248, 0.17226387665514978, 0.14649791219818295, 0.000982470250698592, 0.00491235125349296, 0.789906081561668, 0.20337134189460854, 0.5725832468841503, 0.007340810857489107, 0.09604227538548249, 0.3223839434913966, 0.0006117342381240922, 0.9968581989384947, 0.15174294711789335, 0.8454249910854057, 0.9981946510684019, 0.6886955043897443, 0.3107528495417139, 0.9979629490586381, 0.9977361082417906, 0.9992284926311606, 0.000612647757591147, 0.8315903422136472, 0.16704040533064576, 0.2875152083966385, 0.7110867207666863, 0.9974252917805224, 0.9997784923827723, 0.9895292823864664, 0.9955503502589602, 0.8775424666278279, 0.11949514439187443, 0.9938485585149662, 0.9945284832119956, 0.9980993180663201, 0.3165122814366051, 0.6822185538296327, 0.9946889123101774, 0.023144646840851504, 0.9756915183846463, 0.9111286082954075, 0.00873086962090055, 0.014967205064400944, 0.023698074685301496, 0.03180531076185201, 0.005612701899150354, 0.0024945341774001576, 0.001870900633050118, 0.995833662702994, 0.9971640747120316, 0.9977607524355787, 0.9973851607532921, 0.002053923312918641, 0.0010265252284054613, 0.5178819777305552, 0.0020530504568109227, 0.47630770598013406, 0.002566313071013653, 0.01144213714470582, 0.9859308173021515, 0.6913567649311322, 0.3076080760266271, 0.9954887858290641, 0.9951423749450328, 0.004296815090436238, 0.013156673376355553, 0.620094789922442, 0.0003462282467461988, 0.10594584350433682, 0.15268665681507365, 0.032199226947396485, 0.06370599740130058, 0.012464216882863156, 0.8135110601682031, 0.12992554136987636, 0.05167493122665537, 0.0029528532129517353, 0.9954846098867712, 0.995855996878596, 0.10375952125578716, 0.6050555215397709, 0.20876915722549946, 0.08125745640513453, 0.6674405221939576, 0.33193247398395925, 0.09458078202889895, 0.26009715057947214, 0.11616987357897372, 0.39580001175137064, 0.13261870523617356, 0.4756976800943734, 0.004342068073883733, 0.023640148402255878, 0.006271876106720947, 0.008201684139558163, 0.19249835127551215, 0.0530697209030234, 0.16934065488146557, 0.005789424098511644, 0.04197332471420942, 0.01833317631195354, 0.9941458398074775, 0.25155307671243005, 0.6985435437937481, 0.040635497007392544, 0.009675118335093463, 0.9572191980152174, 0.013197669396803485, 0.0093160019271554, 0.019408337348240417, 0.995956905561325, 0.9983566346243447, 0.9976401440255843, 0.0021536966409763155, 0.998715883993597, 0.00071438904434449, 0.9905948104216141, 0.997377691611066, 0.03579584188774627, 0.0930691889081403, 0.007159168377549254, 0.7493262901834886, 0.11216030458160497, 0.9309658020717149, 0.0003275741738464866, 0.01343054112770595, 0.009172076867701625, 0.003275741738464866, 0.0003275741738464866, 0.02293019216925406, 0.005568760955390272, 0.0013102966953859464, 0.0022930192169254063, 0.010809947736934057, 0.0077535177636974305, 0.9569133173363245, 0.0019383794409243576, 0.0335985769760222, 0.9991486695051138, 0.9994018299843875, 0.16044021141886183, 0.3447554542988638, 0.494690651874824, 0.0036743709298901633, 0.9939173365352891, 0.9960541464088837, 0.8235201506873076, 0.12505305991918372, 0.050326231430891016, 0.997666315962021, 0.9963718173624171, 0.13941421890528785, 0.02760677602084908, 0.6128704276628496, 0.21809353056470773, 0.9951642498899727, 0.2784680701718919, 0.7196056070778593, 0.2097323759142224, 0.6731584991133338, 0.09158619035555562, 0.025644133299555574, 0.9835236034336275, 0.014947167225435069, 0.9977987024736489, 0.9959042795484561, 0.9960346061086981, 0.9940727816459725, 0.981964219786083, 0.01735795338005702, 0.9951095405882853, 0.12031728072051003, 0.15733798248066697, 0.7219036843230602, 0.5509782258178244, 0.012463911961281458, 0.18879160764882208, 0.002199513875520257, 0.0018329282296002144, 0.05608760382576656, 0.007331712918400858, 0.005865370334720686, 0.1393025454496163, 0.035192222008324114, 0.9991221593838093, 0.7244710699176325, 0.015977308226991206, 0.08587803172007774, 0.1732539360864359, 0.9985810006989428, 0.9969221458855528, 0.9956570874676232, 0.9942214912638312, 0.2560166107778187, 0.7418434076081676, 0.9918768390885097, 0.9976764473682928, 0.006359455544939631, 0.9929835586598594, 0.3393939382175692, 0.6596529066246524, 0.9935343354270161, 0.005374175005459778, 0.9942223760100589, 0.7970559572439353, 0.2020187910065274, 0.9985961865608826, 0.9977725427558246, 0.4201801006387233, 0.016682088362827724, 0.02398050202156485, 0.5390399802238708, 0.9951242250476082, 0.9913831688541753, 0.9995720424266337, 0.992522685089948, 0.9994301883696878, 0.993951136699782, 0.9953534499281571, 0.001846666882983594, 0.9987255353492525, 0.999704869194862, 0.2853829588301238, 0.2037812690396353, 0.01471505881467826, 0.004013197858548616, 0.004459108731720685, 0.19843033856157047, 0.07045391796118682, 0.07892622455145612, 0.14046192504920157, 0.8388159285814694, 0.14882218087735746, 0.009839483033213718, 0.0012299353791517147, 0.9925773949079664, 0.9965508038974135, 0.0012598619518298527, 0.0012598619518298527, 0.9962462393792356, 0.0009835087661741366, 0.97957473110944, 0.018686666557308596, 0.22699410430340694, 0.29505299519506967, 0.06569846693010219, 0.16168904136689818, 0.07356654680197071, 0.0027538279551539836, 0.04209422731449661, 0.010621907827022508, 0.12116843002677528, 0.00039340399359342625, 0.10853204071000025, 0.13739027118780378, 0.7340028186745681, 0.004391469855317929, 0.015683820911849746, 0.6379210906292956, 0.36081509650978255, 0.9941875996789561, 0.652794773821959, 0.12990615999056987, 0.003590371256020775, 0.010771113768062324, 0.017299061506281917, 0.0447164420068042, 0.06136270873926415, 0.06723786170366179, 0.005875152964397632, 0.000652794773821959, 0.005875152964397632, 0.7046816348013053, 0.2934791749643083, 0.9961516930305023, 0.3376372563120738, 0.139941757550399, 0.5220049686403773, 0.8163485593694801, 0.14150041695737656, 0.040570049617149925, 0.27232821167437854, 0.13616410583718927, 0.03048450130683342, 0.00508075021780557, 0.37089476589980663, 0.06909820296215576, 0.049791352134494586, 0.06604975283147241, 0.9941460442459963, 0.9945940300510998, 0.998891103994552, 0.9929983821322093, 0.13788574714182725, 0.8389312307786633, 0.005555835965421611, 0.015657355902551812, 0.0015152279905695303, 0.9979591801589175, 0.9486274698525473, 0.010935186972363658, 0.026654518245136417, 0.0013668983715454572, 0.011618636158136386, 0.9989511334492451, 0.9954094114661391, 0.9191124179733442, 0.08072327862015503, 0.005468184258143881, 0.645245742460978, 0.3481410644351604, 0.9948000584298923, 0.23941165408859869, 0.001524914994194896, 0.18298979930338752, 0.5748929528114758, 0.9985332680176603, 0.9928673893923539, 0.9953636392514968, 0.2880299385827198, 0.032259353121264614, 0.1712818034771907, 0.46315214124101345, 0.009216958034647034, 0.03533167246614696, 0.9987491408807617, 0.9958453110413924, 0.9246511996077437, 0.07397209596861949, 0.14408994415390047, 0.8546024273955477, 0.6146711133907742, 0.13354971265871973, 0.06277977945495372, 0.012841318524876896, 0.009702329552129211, 0.061638328919409104, 0.0873209659691629, 0.011699867989332284, 0.0005707252677723065, 0.0028536263388615327, 0.0017121758033169195, 0.0005707252677723065, 0.08422319191755144, 0.6356154188063488, 0.049787108522690506, 0.22985048434642116, 0.9980350408017232, 0.9096919735667529, 0.08818442600902196, 0.9981474069010622, 0.9970980630858355, 0.1905604305796762, 0.8083450522976587, 0.9990019711834311, 0.03137928666212923, 0.9675280054156513, 0.7896736832173683, 0.08855841136377596, 0.008354567109790184, 0.0020050961063496444, 0.03074480696402788, 0.010025480531748222, 0.01269894200688108, 0.02172187448545448, 0.019716778379104835, 0.009357115162965007, 0.00768620174100697, 0.9912086006630996, 0.9949034254868848, 0.16063547932602107, 0.836516835735506, 0.12150079253046189, 0.18900123282516296, 0.3930907993632591, 0.042088509830813595, 0.10879482729851817, 0.000794122826996483, 0.041294387003817115, 0.10403009033653927, 0.9987927672760957, 0.9978600865687003, 0.47101310401412494, 0.005184733575091977, 0.0901345990746759, 0.021735998449424056, 0.051647922921108536, 0.042076107090169505, 0.19402868340632667, 0.06660388515695077, 0.05384146404903206, 0.0005982384894336896, 0.003190605276979678, 0.9993348680749028, 0.9975517421568041, 0.9925561957753399, 0.012517119956384309, 0.001788159993769187, 0.9816998365792836, 0.001788159993769187, 0.9987771545585975, 0.5329838265328962, 0.05707405061719647, 0.005707405061719647, 0.006146436220313466, 0.04039086659063135, 0.002195155792969095, 0.32707821315239516, 0.02195155792969095, 0.006146436220313466, 0.15736914554697454, 0.8404549970970289, 0.3939574080350357, 0.6040680256537214, 0.894048078785528, 0.03366600512670683, 0.00045059662693489066, 0.05297728913820214, 0.016865188036705905, 0.00012874189340996876, 0.0018023865077395626, 0.9967071828606825, 0.21935708816592422, 0.7784501543449261, 0.8569776403667988, 0.048551204720400386, 0.01238218643875983, 0.001955082069277868, 0.0003258470115463113, 0.04170841747792785, 0.008797869311750407, 0.017595738623500813, 0.0048877051731946695, 0.0022809290808241795, 0.0003258470115463113, 0.003910164138555736, 0.99950544614276, 0.9978520589686821, 0.9997185089328646, 0.9912207342853898, 0.9971798023788578, 0.9968744400770191, 0.9962439147082205, 0.9906210223382041, 0.23642080588319503, 0.7631138234340906, 0.0023470937814331636, 0.07158636033371149, 0.19715587764038575, 0.004694187562866327, 0.580905710904708, 0.1419991737767064, 0.9979551561053777, 0.9984284512286162, 0.9971914005464838, 0.9986755027362865, 0.08321116302474292, 0.42841861648739066, 0.4878551615050642, 0.6751863064606195, 0.32450814729115046, 0.17486208261761338, 0.4368123397153715, 0.10217431494127213, 0.00034286682866198706, 0.11863192271704752, 0.1669761455583877, 0.9947931036592857, 0.9996314898836967, 0.9992685797998447, 0.9973950810446622, 0.0145466333126319, 0.06909650823500152, 0.9157105670301782, 0.9946960452984008, 0.43127482321852634, 0.004033747372269927, 0.18488008789570498, 0.03395070704993855, 0.3351371775127598, 0.008739785973251509, 0.0016807280717791363, 0.9939492055921819, 0.3309005518436808, 0.5941168999011541, 0.026739438532822693, 0.04762962488659042, 0.9990689820308354, 0.9992129142893622, 0.015903098459448747, 0.9837202332773296, 0.9955953200204002, 0.9958512867649175, 0.9972850591528993, 0.9985979229650856, 0.9949706918750809, 0.997035948823688, 0.656104945895794, 0.01983902644177347, 0.0014170733172695336, 0.00047235777242317785, 0.006140651041501312, 0.2782187279572518, 0.031647970752352914, 0.005668293269078134, 0.9953253181926286, 0.0012044437676755092, 0.9972794396353216, 0.9518448565104495, 0.002169623573941109, 0.007128763171520787, 0.0003099462248487299, 0.004959139597579678, 0.0012397848993949195, 0.0015497311242436494, 0.01735698859152887, 0.0030994622484872988, 0.004959139597579678, 0.0030994622484872988, 0.0018596773490923793, 0.43762222011019675, 0.561784803490299, 0.9893709842847297, 0.0067920204870805245, 0.9964281524517544, 0.9977747697362738, 0.07287661378173613, 0.9249724056912663, 0.9986977013307459, 0.6702148226560583, 0.030438205313428526, 0.10538510707573838, 0.00746597488819945, 0.003158681683468998, 0.07724412480483277, 0.0011486115212614538, 0.07925419496704031, 0.006030210486622632, 0.008040280648830176, 0.00028715288031536346, 0.011486115212614539, 0.9970683208415874, 0.26875082422678837, 0.19770175575303972, 0.5328680135531149, 0.9959570432893325, 0.9973404336180042, 0.00039081412841962635, 0.005862211926294395, 0.0007816282568392527, 0.008207096696812154, 0.9574946146280846, 0.02657536073253459, 0.9955132954978694, 0.17671607646998325, 0.11594226719983876, 0.706864305879933, 0.9964813407685906, 0.999336187955458, 0.5475494292776664, 0.45178620046182627, 0.9978974115666611, 0.20434118903858764, 0.7947796773658751, 0.9919677398966893, 0.9968009539176242, 0.24788534143026839, 0.7515254002092264, 0.007882731418716826, 0.7086012493182232, 0.04659257320705838, 0.07361908092837322, 0.0045044179535524715, 0.11978936495228605, 0.026604218538169286, 0.009712651212347517, 0.0026744981599217802, 0.08266591748058867, 0.7650994490224695, 0.14950219118829866, 0.9946674967943571, 0.0045007579040468645, 0.9981031200252589, 0.9971841196601274, 0.12292343690721577, 0.22591334350515332, 0.024363203711340063, 0.06423026432989654, 0.4462895952577294, 0.05315608082474196, 0.06201542762886562, 0.9900183840799592, 0.01900521037787303, 0.95198826529164, 0.0034554927959769147, 0.02591619596982686, 0.9548960074759938, 0.03354100347527586, 0.010430434007555297, 0.0008180732554945331, 0.9958634253048717, 0.9900880397735787, 0.9950292144990636], \"Term\": [\"\\\"\", \"ac\", \"acceleration\", \"acceleration\", \"acceleration\", \"accelerator\", \"access\", \"access\", \"access\", \"access\", \"account\", \"adapter\", \"aero\", \"afford\", \"aftermarket\", \"afternoon\", \"ago\", \"ago\", \"ago\", \"ago\", \"ago\", \"ago\", \"agree\", \"agree\", \"agree\", \"air\", \"also\", \"also\", \"also\", \"also\", \"also\", \"also\", \"also\", \"also\", \"also\", \"also\", \"also\", \"also\", \"america\", \"american\", \"amp\", \"ap\", \"ap\", \"app\", \"apple\", \"appointment\", \"approve\", \"appt\", \"area\", \"area\", \"area\", \"area\", \"area\", \"area\", \"argue\", \"arm\", \"article\", \"ask\", \"ask\", \"ask\", \"assist\", \"attention\", \"audio\", \"auto\", \"auto\", \"auto\", \"auto\", \"automatic\", \"automatic\", \"automatically\", \"automatically\", \"automatically\", \"autopilot\", \"autosteer\", \"availability\", \"average\", \"away\", \"away\", \"away\", \"away\", \"away\", \"away\", \"away\", \"awd\", \"back\", \"back\", \"back\", \"back\", \"back\", \"back\", \"back\", \"back\", \"back\", \"back\", \"back\", \"back\", \"backup\", \"balance\", \"ball\", \"bar\", \"battery\", \"believe\", \"believe\", \"believe\", \"believe\", \"believe\", \"believe\", \"bike\", \"bill\", \"black\", \"blade\", \"blind\", \"blow\", \"bluetooth\", \"body\", \"bolt\", \"boost\", \"boost\", \"brake\", \"brake\", \"braking\", \"breaker\", \"browser\", \"buck\", \"bug\", \"build\", \"build\", \"build\", \"build\", \"building\", \"bumper\", \"button\", \"button\", \"buy\", \"buy\", \"buyer\", \"cabin\", \"cable\", \"california\", \"california\", \"california\", \"call\", \"call\", \"call\", \"cam\", \"camera\", \"camera\", \"canada\", \"cancel\", \"capacity\", \"car\", \"car\", \"car\", \"car\", \"car\", \"car\", \"car\", \"car\", \"car\", \"car\", \"car\", \"car\", \"card\", \"card\", \"ccs\", \"cell\", \"center\", \"center\", \"center\", \"ceramic\", \"change\", \"change\", \"change\", \"change\", \"change\", \"change\", \"change\", \"change\", \"charge\", \"charge\", \"charge\", \"charger\", \"charging\", \"charging\", \"chat\", \"check\", \"check\", \"check\", \"check\", \"check\", \"check\", \"check\", \"check\", \"check\", \"chill\", \"chip\", \"circuit\", \"clean\", \"click\", \"climate\", \"climate\", \"close\", \"close\", \"close\", \"close\", \"close\", \"close\", \"close\", \"close\", \"code\", \"cold\", \"cold\", \"cold\", \"collision\", \"combination\", \"come\", \"come\", \"come\", \"come\", \"come\", \"come\", \"come\", \"come\", \"come\", \"come\", \"come\", \"come\", \"command\", \"comment\", \"comment\", \"company\", \"company\", \"comparison\", \"component\", \"condition\", \"condition\", \"condition\", \"cone\", \"connect\", \"connection\", \"connector\", \"consumption\", \"contact\", \"contact\", \"contact\", \"control\", \"control\", \"control\", \"control\", \"cool\", \"cord\", \"cost\", \"cost\", \"cost\", \"cost\", \"costco\", \"cover\", \"cover\", \"cover\", \"cover\", \"crack\", \"crack\", \"credit\", \"cruise\", \"curb\", \"curve\", \"curve\", \"customer\", \"customer\", \"customer\", \"cybertruck\", \"cycle\", \"d\", \"d\", \"d\", \"d\", \"d\", \"d\", \"d\", \"d\", \"d\", \"d\", \"daily\", \"damage\", \"damage\", \"damn\", \"dark\", \"dash\", \"dash\", \"dashcam\", \"day\", \"day\", \"day\", \"day\", \"day\", \"day\", \"day\", \"day\", \"day\", \"dc\", \"dead\", \"dec\", \"december\", \"degradation\", \"delete\", \"delivery\", \"delivery\", \"demand\", \"device\", \"diego\", \"dirt\", \"dmv\", \"door\", \"dot\", \"download\", \"drain\", \"drive\", \"drive\", \"drive\", \"drive\", \"drive\", \"drive\", \"drive\", \"drive\", \"drive\", \"driver\", \"driver\", \"driver\", \"driver\", \"driver\", \"driver\", \"driveway\", \"dryer\", \"dual\", \"dual\", \"e\", \"ea\", \"early\", \"early\", \"early\", \"early\", \"efficiency\", \"efficiency\", \"efficient\", \"efficient\", \"electrician\", \"elon\", \"email\", \"email\", \"energy\", \"engage\", \"enhance\", \"epa\", \"error\", \"error\", \"estimate\", \"estimate\", \"even\", \"even\", \"even\", \"even\", \"even\", \"even\", \"even\", \"even\", \"even\", \"even\", \"even\", \"even\", \"event\", \"ever\", \"ever\", \"ever\", \"ever\", \"ever\", \"everyone\", \"excellent\", \"exist\", \"exist\", \"exist\", \"expire\", \"extender\", \"face\", \"fake\", \"fan\", \"fantastic\", \"fast\", \"fast\", \"fast\", \"fast\", \"fast\", \"february\", \"federal\", \"fee\", \"file\", \"file\", \"file\", \"film\", \"filter\", \"find\", \"find\", \"find\", \"find\", \"find\", \"find\", \"find\", \"find\", \"find\", \"find\", \"find\", \"find\", \"fine\", \"fine\", \"fine\", \"fine\", \"fine\", \"fine\", \"firmware\", \"first\", \"first\", \"first\", \"first\", \"first\", \"first\", \"first\", \"first\", \"first\", \"first\", \"first\", \"fit\", \"fit\", \"fit\", \"fit\", \"fix\", \"fix\", \"fix\", \"fix\", \"fl\", \"flash\", \"flash\", \"fluid\", \"fold\", \"folder\", \"footage\", \"ford\", \"forever\", \"form\", \"form\", \"format\", \"format\", \"forth\", \"forum\", \"free\", \"free\", \"free\", \"freeway\", \"freeze\", \"freeze\", \"frequently\", \"front\", \"front\", \"front\", \"front\", \"front\", \"frunk\", \"frunk\", \"fuel\", \"fund\", \"future\", \"gap\", \"garage\", \"garage\", \"garage\", \"gas\", \"gb\", \"give\", \"give\", \"give\", \"give\", \"give\", \"give\", \"give\", \"give\", \"give\", \"give\", \"glass\", \"google\", \"google\", \"gray\", \"great\", \"great\", \"great\", \"great\", \"great\", \"great\", \"great\", \"great\", \"great\", \"great\", \"grin\", \"group\", \"guess\", \"guess\", \"guess\", \"guess\", \"guess\", \"guess\", \"guess\", \"guess\", \"guess\", \"hand\", \"hand\", \"hand\", \"hand\", \"hand\", \"hang\", \"happen\", \"happen\", \"happen\", \"happen\", \"happen\", \"happen\", \"happen\", \"hardly\", \"heat\", \"heat\", \"heater\", \"heating\", \"high\", \"high\", \"high\", \"high\", \"high\", \"high\", \"high\", \"high\", \"high\", \"highway\", \"highway\", \"highway\", \"hold\", \"hold\", \"hold\", \"hold\", \"hold\", \"hold\", \"hold\", \"hold\", \"home\", \"home\", \"home\", \"homelink\", \"hot\", \"hour\", \"hour\", \"hour\", \"hour\", \"hour\", \"house\", \"house\", \"human\", \"hw\", \"ice\", \"ice\", \"ice\", \"icon\", \"imagine\", \"imagine\", \"inside\", \"inside\", \"inside\", \"inside\", \"inside\", \"instal\", \"instal\", \"instal\", \"instal\", \"install\", \"install\", \"install\", \"insurance\", \"interior\", \"interior\", \"iphone\", \"issue\", \"issue\", \"issue\", \"issue\", \"issue\", \"issue\", \"issue\", \"issue\", \"issue\", \"jack\", \"january\", \"june\", \"key\", \"kit\", \"kit\", \"km\", \"kw\", \"kwh\", \"lane\", \"later\", \"later\", \"later\", \"later\", \"later\", \"later\", \"later\", \"leave\", \"leave\", \"leave\", \"leave\", \"leave\", \"leave\", \"leave\", \"leave\", \"less\", \"less\", \"less\", \"less\", \"less\", \"less\", \"less\", \"less\", \"license\", \"lifetime\", \"lift\", \"light\", \"limit\", \"limit\", \"limit\", \"loan\", \"loaner\", \"location\", \"location\", \"location\", \"location\", \"lock\", \"lock\", \"lock\", \"log\", \"log\", \"long\", \"long\", \"long\", \"long\", \"long\", \"long\", \"long\", \"long\", \"long\", \"long\", \"long\", \"loose\", \"loss\", \"love\", \"love\", \"love\", \"low\", \"low\", \"low\", \"low\", \"low\", \"low\", \"low\", \"lower\", \"lr\", \"lr\", \"lte\", \"lucky\", \"mach\", \"mache\", \"magic\", \"mail\", \"make\", \"make\", \"make\", \"make\", \"make\", \"make\", \"make\", \"make\", \"make\", \"make\", \"make\", \"make\", \"manual\", \"manual\", \"many\", \"many\", \"many\", \"many\", \"many\", \"many\", \"march\", \"market\", \"mass\", \"mat\", \"maximum\", \"md\", \"mean\", \"mean\", \"mean\", \"mean\", \"mean\", \"mean\", \"mean\", \"measure\", \"measure\", \"menu\", \"mercede\", \"merge\", \"message\", \"message\", \"meter\", \"mi\", \"michelin\", \"mile\", \"mile\", \"mile\", \"million\", \"min\", \"mine\", \"mine\", \"mine\", \"mine\", \"mine\", \"mine\", \"mine\", \"mine\", \"mine\", \"minute\", \"minute\", \"minute\", \"minute\", \"minute\", \"minute\", \"minute\", \"mirror\", \"mirror\", \"mobile\", \"mobile\", \"mobile\", \"mode\", \"model\", \"model\", \"model\", \"model\", \"model\", \"model\", \"model\", \"motion\", \"motor\", \"motor\", \"mount\", \"mount\", \"mph\", \"mph\", \"much\", \"much\", \"much\", \"much\", \"much\", \"much\", \"much\", \"music\", \"music\", \"mustang\", \"navigate\", \"navigation\", \"need\", \"need\", \"need\", \"need\", \"need\", \"need\", \"need\", \"need\", \"need\", \"need\", \"need\", \"need\", \"nema\", \"network\", \"network\", \"network\", \"neutral\", \"never\", \"never\", \"never\", \"never\", \"never\", \"never\", \"never\", \"never\", \"new\", \"new\", \"new\", \"new\", \"new\", \"new\", \"news\", \"next\", \"next\", \"next\", \"next\", \"next\", \"next\", \"next\", \"next\", \"next\", \"night\", \"night\", \"night\", \"notice\", \"notice\", \"notice\", \"notice\", \"notice\", \"notice\", \"notice\", \"notification\", \"number\", \"number\", \"number\", \"number\", \"number\", \"ny\", \"oem\", \"offer\", \"offer\", \"oh\", \"oh\", \"oil\", \"old\", \"old\", \"old\", \"old\", \"old\", \"old\", \"old\", \"old\", \"online\", \"online\", \"online\", \"online\", \"onto\", \"onto\", \"op\", \"op\", \"open\", \"order\", \"order\", \"order\", \"order\", \"outlet\", \"outside\", \"outside\", \"outside\", \"override\", \"owner\", \"owner\", \"owner\", \"pack\", \"page\", \"page\", \"paint\", \"panel\", \"panel\", \"paperwork\", \"park\", \"park\", \"park\", \"parking\", \"parking\", \"parking\", \"parking\", \"part\", \"part\", \"part\", \"part\", \"part\", \"partition\", \"party\", \"party\", \"pass\", \"pay\", \"pay\", \"payment\", \"pedal\", \"people\", \"people\", \"per\", \"per\", \"performance\", \"performance\", \"phantom\", \"phone\", \"pic\", \"picture\", \"piece\", \"piece\", \"pin\", \"plastic\", \"plate\", \"play\", \"play\", \"player\", \"plug\", \"plug\", \"point\", \"point\", \"point\", \"point\", \"point\", \"point\", \"point\", \"point\", \"pop\", \"porsche\", \"port\", \"post\", \"post\", \"power\", \"power\", \"power\", \"power\", \"power\", \"premium\", \"premium\", \"press\", \"press\", \"pressure\", \"price\", \"price\", \"problem\", \"problem\", \"problem\", \"problem\", \"problem\", \"problem\", \"problem\", \"problem\", \"program\", \"program\", \"program\", \"program\", \"protection\", \"psi\", \"pull\", \"pull\", \"pull\", \"pull\", \"purchase\", \"purchase\", \"push\", \"push\", \"push\", \"push\", \"push\", \"put\", \"put\", \"put\", \"put\", \"put\", \"put\", \"put\", \"put\", \"put\", \"put\", \"put\", \"qualify\", \"quality\", \"quality\", \"quality\", \"quality\", \"question\", \"question\", \"question\", \"question\", \"rack\", \"radio\", \"range\", \"range\", \"rate\", \"rate\", \"rating\", \"rattle\", \"ready\", \"ready\", \"ready\", \"ready\", \"ready\", \"really\", \"really\", \"really\", \"really\", \"really\", \"really\", \"really\", \"really\", \"really\", \"really\", \"really\", \"rear\", \"rear\", \"rear\", \"rear\", \"rebate\", \"reboot\", \"receive\", \"receive\", \"receive\", \"record\", \"record\", \"recording\", \"red\", \"red\", \"red\", \"referral\", \"refund\", \"remove\", \"remove\", \"remove\", \"remove\", \"rental\", \"repair\", \"repair\", \"replace\", \"replace\", \"replace\", \"replace\", \"replacement\", \"replacement\", \"request\", \"requirement\", \"resale\", \"reservation\", \"reset\", \"reset\", \"reverse\", \"ride\", \"ride\", \"ride\", \"right\", \"right\", \"right\", \"right\", \"right\", \"right\", \"right\", \"right\", \"right\", \"right\", \"rim\", \"road\", \"road\", \"road\", \"road\", \"roof\", \"room\", \"rotate\", \"rotation\", \"route\", \"route\", \"router\", \"rule\", \"rwd\", \"rwd\", \"sale\", \"sale\", \"samsung\", \"save\", \"save\", \"sc\", \"sc\", \"schedule\", \"scratch\", \"screen\", \"screen\", \"screen\", \"screen\", \"screw\", \"scs\", \"seat\", \"security\", \"sell\", \"sensitive\", \"sensor\", \"sensor\", \"sentry\", \"service\", \"set\", \"set\", \"set\", \"set\", \"set\", \"set\", \"set\", \"set\", \"set\", \"setting\", \"setting\", \"setting\", \"setting\", \"setup\", \"share\", \"share\", \"share\", \"shift\", \"shop\", \"shop\", \"shop\", \"show\", \"show\", \"show\", \"show\", \"show\", \"show\", \"show\", \"show\", \"show\", \"show\", \"side\", \"side\", \"side\", \"side\", \"side\", \"sign\", \"sign\", \"silver\", \"since\", \"since\", \"since\", \"since\", \"since\", \"since\", \"since\", \"since\", \"since\", \"since\", \"since\", \"sit\", \"sit\", \"six\", \"size\", \"size\", \"size\", \"slow\", \"slow\", \"slow\", \"small\", \"small\", \"small\", \"small\", \"small\", \"small\", \"small\", \"small\", \"smell\", \"smooth\", \"snow\", \"soc\", \"software\", \"software\", \"software\", \"software\", \"software\", \"solar\", \"someone\", \"someone\", \"someone\", \"someone\", \"someone\", \"song\", \"spec\", \"speed\", \"speed\", \"spend\", \"spend\", \"spend\", \"sport\", \"spot\", \"spot\", \"spot\", \"spot\", \"spotify\", \"squeak\", \"stalk\", \"state\", \"state\", \"state\", \"state\", \"state\", \"state\", \"station\", \"steer\", \"steering\", \"steering\", \"sticker\", \"sticker\", \"still\", \"still\", \"still\", \"still\", \"still\", \"still\", \"still\", \"still\", \"still\", \"still\", \"still\", \"still\", \"stop\", \"stop\", \"stop\", \"stop\", \"story\", \"street\", \"street\", \"submit\", \"suck\", \"summer\", \"summer\", \"summon\", \"supercharger\", \"supercharger\", \"sure\", \"sure\", \"sure\", \"sure\", \"sure\", \"sure\", \"sure\", \"sure\", \"sure\", \"sure\", \"sure\", \"surely\", \"suspension\", \"swap\", \"swap\", \"system\", \"system\", \"system\", \"system\", \"system\", \"system\", \"system\", \"system\", \"tacc\", \"tag\", \"take\", \"take\", \"take\", \"take\", \"take\", \"take\", \"take\", \"take\", \"take\", \"take\", \"take\", \"tax\", \"taycan\", \"team\", \"tech\", \"tech\", \"tech\", \"tech\", \"technology\", \"tell\", \"tell\", \"tell\", \"tell\", \"tell\", \"tell\", \"tell\", \"tell\", \"tell\", \"temp\", \"temp\", \"temperature\", \"temperature\", \"tesla\", \"tesla\", \"tesla\", \"tesla\", \"tesla\", \"tesla\", \"tesla\", \"teslacam\", \"text\", \"text\", \"thing\", \"thing\", \"thing\", \"thing\", \"thing\", \"thing\", \"thing\", \"thing\", \"thing\", \"thing\", \"thing\", \"thing\", \"thread\", \"tint\", \"tire\", \"tired\", \"title\", \"tomorrow\", \"topic\", \"torque\", \"total\", \"total\", \"touch\", \"touch\", \"touch\", \"touch\", \"touch\", \"touch\", \"tow\", \"trade\", \"tradein\", \"traffic\", \"trip\", \"trip\", \"trip\", \"trunk\", \"trunk\", \"turn\", \"turn\", \"turn\", \"turn\", \"turn\", \"turn\", \"uber\", \"update\", \"upgrade\", \"usage\", \"usb\", \"usb\", \"usb\", \"variable\", \"vehicle\", \"vehicle\", \"vehicle\", \"vehicle\", \"vehicle\", \"vehicle\", \"vehicle\", \"vent\", \"version\", \"version\", \"version\", \"version\", \"video\", \"view\", \"vin\", \"vin\", \"visualization\", \"vmulla\", \"voice\", \"volt\", \"voltage\", \"volume\", \"wait\", \"wait\", \"wait\", \"wait\", \"wait\", \"wait\", \"wait\", \"wait\", \"wake\", \"wall\", \"wall\", \"want\", \"want\", \"want\", \"want\", \"want\", \"want\", \"want\", \"want\", \"want\", \"want\", \"want\", \"want\", \"warm\", \"warm\", \"warning\", \"warning\", \"wash\", \"waste\", \"watch\", \"watch\", \"water\", \"way\", \"way\", \"way\", \"way\", \"way\", \"way\", \"way\", \"way\", \"way\", \"way\", \"way\", \"way\", \"wear\", \"weather\", \"weather\", \"weather\", \"web\", \"website\", \"week\", \"week\", \"week\", \"week\", \"week\", \"week\", \"weight\", \"wheel\", \"wheel\", \"wheel\", \"whmi\", \"wifi\", \"window\", \"window\", \"windshield\", \"winter\", \"winter\", \"wipe\", \"wiper\", \"wire\", \"wire\", \"work\", \"work\", \"work\", \"work\", \"work\", \"work\", \"work\", \"work\", \"work\", \"worry\", \"worry\", \"worry\", \"worth\", \"worth\", \"wow\", \"wrap\", \"x\", \"x\", \"x\", \"x\", \"x\", \"x\", \"x\", \"ya\", \"yeah\", \"yeah\", \"yeah\", \"yeah\", \"year\", \"year\", \"year\", \"year\", \"youtube\", \"yup\", \"\\u2026\"]}, \"R\": 30, \"lambda.step\": 0.01, \"plot.opts\": {\"xlab\": \"PC1\", \"ylab\": \"PC2\"}, \"topic.order\": [10, 3, 11, 6, 1, 8, 2, 5, 9, 4, 7, 12]};\n",
       "\n",
       "function LDAvis_load_lib(url, callback){\n",
       "  var s = document.createElement('script');\n",
       "  s.src = url;\n",
       "  s.async = true;\n",
       "  s.onreadystatechange = s.onload = callback;\n",
       "  s.onerror = function(){console.warn(\"failed to load library \" + url);};\n",
       "  document.getElementsByTagName(\"head\")[0].appendChild(s);\n",
       "}\n",
       "\n",
       "if(typeof(LDAvis) !== \"undefined\"){\n",
       "   // already loaded: just create the visualization\n",
       "   !function(LDAvis){\n",
       "       new LDAvis(\"#\" + \"ldavis_el42333107690624807896100801\", ldavis_el42333107690624807896100801_data);\n",
       "   }(LDAvis);\n",
       "}else if(typeof define === \"function\" && define.amd){\n",
       "   // require.js is available: use it to load d3/LDAvis\n",
       "   require.config({paths: {d3: \"https://d3js.org/d3.v5\"}});\n",
       "   require([\"d3\"], function(d3){\n",
       "      window.d3 = d3;\n",
       "      LDAvis_load_lib(\"https://cdn.jsdelivr.net/gh/bmabey/pyLDAvis@3.3.1/pyLDAvis/js/ldavis.v3.0.0.js\", function(){\n",
       "        new LDAvis(\"#\" + \"ldavis_el42333107690624807896100801\", ldavis_el42333107690624807896100801_data);\n",
       "      });\n",
       "    });\n",
       "}else{\n",
       "    // require.js not available: dynamically load d3 & LDAvis\n",
       "    LDAvis_load_lib(\"https://d3js.org/d3.v5.js\", function(){\n",
       "         LDAvis_load_lib(\"https://cdn.jsdelivr.net/gh/bmabey/pyLDAvis@3.3.1/pyLDAvis/js/ldavis.v3.0.0.js\", function(){\n",
       "                 new LDAvis(\"#\" + \"ldavis_el42333107690624807896100801\", ldavis_el42333107690624807896100801_data);\n",
       "            })\n",
       "         });\n",
       "}\n",
       "</script>"
      ],
      "text/plain": [
       "<IPython.core.display.HTML object>"
      ]
     },
     "execution_count": 27,
     "metadata": {},
     "output_type": "execute_result"
    }
   ],
   "source": [
    "pyLDAvis.enable_notebook()\n",
    "\n",
    "# feed the LDA model into the pyLDAvis instance\n",
    "lda_viz = gensimvis.prepare(model, corpus, dictionary, sort_topics=True)\n",
    "\n",
    "pyLDAvis.display(lda_viz)\n"
   ]
  },
  {
   "cell_type": "code",
   "execution_count": 28,
   "metadata": {},
   "outputs": [],
   "source": [
    "pyLDAvis.save_html(lda_viz, 'lda.html')"
   ]
  },
  {
   "cell_type": "code",
   "execution_count": 29,
   "metadata": {},
   "outputs": [],
   "source": [
    "pyLDAvis.disable_notebook()"
   ]
  },
  {
   "cell_type": "code",
   "execution_count": null,
   "metadata": {},
   "outputs": [],
   "source": []
  }
 ],
 "metadata": {
  "interpreter": {
   "hash": "5629da87f0f0738fb6d7f5b56890b7158ed7c3cd6e2056d12c1193abac81cb87"
  },
  "kernelspec": {
   "display_name": "Python 3.9.7 64-bit ('NLP': conda)",
   "language": "python",
   "name": "python3"
  },
  "language_info": {
   "codemirror_mode": {
    "name": "ipython",
    "version": 3
   },
   "file_extension": ".py",
   "mimetype": "text/x-python",
   "name": "python",
   "nbconvert_exporter": "python",
   "pygments_lexer": "ipython3",
   "version": "3.9.7"
  },
  "orig_nbformat": 4
 },
 "nbformat": 4,
 "nbformat_minor": 2
}
